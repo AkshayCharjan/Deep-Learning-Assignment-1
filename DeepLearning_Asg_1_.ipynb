{
  "cells": [
    {
      "cell_type": "markdown",
      "metadata": {
        "id": "IsZ72WHq36Qw"
      },
      "source": [
        "### **Import Libraries**"
      ]
    },
    {
      "cell_type": "code",
      "execution_count": 1,
      "metadata": {
        "id": "5SLrzrQ5m8ej"
      },
      "outputs": [],
      "source": [
        "import matplotlib.pyplot as plt\n",
        "import numpy as np\n",
        "from sklearn.model_selection import train_test_split"
      ]
    },
    {
      "cell_type": "code",
      "execution_count": 2,
      "metadata": {
        "colab": {
          "base_uri": "https://localhost:8080/"
        },
        "id": "Ad6VuSShjzaK",
        "outputId": "91b7c22e-715d-4946-a8fe-19428630c417"
      },
      "outputs": [
        {
          "output_type": "stream",
          "name": "stdout",
          "text": [
            "Looking in indexes: https://pypi.org/simple, https://us-python.pkg.dev/colab-wheels/public/simple/\n",
            "Requirement already satisfied: wandb in /usr/local/lib/python3.9/dist-packages (0.13.11)\n",
            "Requirement already satisfied: psutil>=5.0.0 in /usr/local/lib/python3.9/dist-packages (from wandb) (5.4.8)\n",
            "Requirement already satisfied: Click!=8.0.0,>=7.0 in /usr/local/lib/python3.9/dist-packages (from wandb) (8.1.3)\n",
            "Requirement already satisfied: GitPython!=3.1.29,>=1.0.0 in /usr/local/lib/python3.9/dist-packages (from wandb) (3.1.31)\n",
            "Requirement already satisfied: pathtools in /usr/local/lib/python3.9/dist-packages (from wandb) (0.1.2)\n",
            "Requirement already satisfied: PyYAML in /usr/local/lib/python3.9/dist-packages (from wandb) (6.0)\n",
            "Requirement already satisfied: protobuf!=4.21.0,<5,>=3.15.0 in /usr/local/lib/python3.9/dist-packages (from wandb) (3.19.6)\n",
            "Requirement already satisfied: setuptools in /usr/local/lib/python3.9/dist-packages (from wandb) (57.4.0)\n",
            "Requirement already satisfied: docker-pycreds>=0.4.0 in /usr/local/lib/python3.9/dist-packages (from wandb) (0.4.0)\n",
            "Requirement already satisfied: sentry-sdk>=1.0.0 in /usr/local/lib/python3.9/dist-packages (from wandb) (1.16.0)\n",
            "Requirement already satisfied: appdirs>=1.4.3 in /usr/local/lib/python3.9/dist-packages (from wandb) (1.4.4)\n",
            "Requirement already satisfied: typing-extensions in /usr/local/lib/python3.9/dist-packages (from wandb) (4.5.0)\n",
            "Requirement already satisfied: requests<3,>=2.0.0 in /usr/local/lib/python3.9/dist-packages (from wandb) (2.25.1)\n",
            "Requirement already satisfied: setproctitle in /usr/local/lib/python3.9/dist-packages (from wandb) (1.3.2)\n",
            "Requirement already satisfied: six>=1.4.0 in /usr/local/lib/python3.9/dist-packages (from docker-pycreds>=0.4.0->wandb) (1.15.0)\n",
            "Requirement already satisfied: gitdb<5,>=4.0.1 in /usr/local/lib/python3.9/dist-packages (from GitPython!=3.1.29,>=1.0.0->wandb) (4.0.10)\n",
            "Requirement already satisfied: certifi>=2017.4.17 in /usr/local/lib/python3.9/dist-packages (from requests<3,>=2.0.0->wandb) (2022.12.7)\n",
            "Requirement already satisfied: idna<3,>=2.5 in /usr/local/lib/python3.9/dist-packages (from requests<3,>=2.0.0->wandb) (2.10)\n",
            "Requirement already satisfied: urllib3<1.27,>=1.21.1 in /usr/local/lib/python3.9/dist-packages (from requests<3,>=2.0.0->wandb) (1.26.14)\n",
            "Requirement already satisfied: chardet<5,>=3.0.2 in /usr/local/lib/python3.9/dist-packages (from requests<3,>=2.0.0->wandb) (4.0.0)\n",
            "Requirement already satisfied: smmap<6,>=3.0.1 in /usr/local/lib/python3.9/dist-packages (from gitdb<5,>=4.0.1->GitPython!=3.1.29,>=1.0.0->wandb) (5.0.0)\n"
          ]
        }
      ],
      "source": [
        "!pip install wandb"
      ]
    },
    {
      "cell_type": "code",
      "execution_count": 3,
      "metadata": {
        "id": "uXNuUAuCmI29"
      },
      "outputs": [],
      "source": [
        "import wandb"
      ]
    },
    {
      "cell_type": "markdown",
      "metadata": {
        "id": "lIVXOiXY4KOf"
      },
      "source": [
        "## **Downloading Data**"
      ]
    },
    {
      "cell_type": "code",
      "execution_count": 4,
      "metadata": {
        "id": "xzklUaso4K9-"
      },
      "outputs": [],
      "source": [
        "from keras.datasets import fashion_mnist"
      ]
    },
    {
      "cell_type": "code",
      "execution_count": 5,
      "metadata": {
        "colab": {
          "base_uri": "https://localhost:8080/"
        },
        "id": "iE7O0-uYV77y",
        "outputId": "f2d7adb5-df58-441b-a10b-78be8ece165a"
      },
      "outputs": [
        {
          "output_type": "execute_result",
          "data": {
            "text/plain": [
              "<module 'keras.datasets.fashion_mnist' from '/usr/local/lib/python3.9/dist-packages/keras/datasets/fashion_mnist.py'>"
            ]
          },
          "metadata": {},
          "execution_count": 5
        }
      ],
      "source": [
        "fashion_mnist"
      ]
    },
    {
      "cell_type": "markdown",
      "metadata": {
        "id": "5h5aD7MC4dX9"
      },
      "source": [
        "## **Data pre-processing**"
      ]
    },
    {
      "cell_type": "code",
      "execution_count": 6,
      "metadata": {
        "colab": {
          "base_uri": "https://localhost:8080/"
        },
        "id": "Vl1WSxUAXe0g",
        "outputId": "bf2d6e50-f959-429f-e315-f8d13d927d56"
      },
      "outputs": [
        {
          "output_type": "stream",
          "name": "stdout",
          "text": [
            "Train: X =  (60000, 28, 28)\n",
            "Test: X =  (10000, 28, 28)\n"
          ]
        }
      ],
      "source": [
        "# Split the data into training and testing\n",
        "(trainX, trainY), (testX, testY) = fashion_mnist.load_data()\n",
        "\n",
        "# Print the dimensions of the dataset\n",
        "print('Train: X = ', trainX.shape)\n",
        "print('Test: X = ', testX.shape)\n"
      ]
    },
    {
      "cell_type": "code",
      "execution_count": 7,
      "metadata": {
        "id": "x_mMsZJTm3Ms"
      },
      "outputs": [],
      "source": [
        "class_labels = [\"T-shirt/top\",\"Trouser\",\"Pullover\",\"Dress\",\"Coat\",\"Sandal\",\"Shirt\",\"Sneaker\",\"Bag\",\"Ankle boot\"]"
      ]
    },
    {
      "cell_type": "markdown",
      "metadata": {
        "id": "TTwYJNrQbdfB"
      },
      "source": [
        "### **Q1**\n",
        "\n",
        "---\n",
        "\n"
      ]
    },
    {
      "cell_type": "code",
      "execution_count": 8,
      "metadata": {
        "colab": {
          "base_uri": "https://localhost:8080/",
          "height": 223
        },
        "id": "SnC-fOf0SPWs",
        "outputId": "57b20718-aa57-4adf-f507-992f8079b236"
      },
      "outputs": [
        {
          "output_type": "display_data",
          "data": {
            "text/plain": [
              "<Figure size 432x288 with 10 Axes>"
            ],
            "image/png": "[encoded data removed]"
          },
          "metadata": {
            "needs_background": "light"
          }
        }
      ],
      "source": [
        "j=0 #j corresponds to the spot index in the subplot \n",
        "classSet=set()\n",
        "Images=[]\n",
        "for i in range(100,150):#i corresponds to the img index \n",
        "  if(j>9):\n",
        "    break\n",
        "  if(trainY[i] not in classSet):\n",
        "    classSet.add(trainY[i])\n",
        "    Images.append(wandb.Image(trainX[i], caption=class_labels[trainY[i]]))\n",
        "    plt.subplot(2,5,j+1);j+=1\n",
        "    plt.imshow(trainX[i], cmap=\"Greys\")\n",
        "    plt.axis('off') # off the axis\n",
        "    plt.title('{}'.format(class_labels[trainY[i]]))"
      ]
    },
    {
      "cell_type": "code",
      "execution_count": 9,
      "metadata": {
        "colab": {
          "base_uri": "https://localhost:8080/",
          "height": 146
        },
        "id": "8Ocs0rHUm6Gg",
        "outputId": "5de18ab0-3ee9-419a-999b-c6c40a272a4b"
      },
      "outputs": [
        {
          "output_type": "stream",
          "name": "stderr",
          "text": [
            "\u001b[34m\u001b[1mwandb\u001b[0m: Currently logged in as: \u001b[33mcs22m008\u001b[0m. Use \u001b[1m`wandb login --relogin`\u001b[0m to force relogin\n"
          ]
        },
        {
          "output_type": "display_data",
          "data": {
            "text/plain": [
              "<IPython.core.display.HTML object>"
            ],
            "text/html": [
              "Tracking run with wandb version 0.13.11"
            ]
          },
          "metadata": {}
        },
        {
          "output_type": "display_data",
          "data": {
            "text/plain": [
              "<IPython.core.display.HTML object>"
            ],
            "text/html": [
              "Run data is saved locally in <code>/content/wandb/run-20230311_174928-5ffrt9ek</code>"
            ]
          },
          "metadata": {}
        },
        {
          "output_type": "display_data",
          "data": {
            "text/plain": [
              "<IPython.core.display.HTML object>"
            ],
            "text/html": [
              "Syncing run <strong><a href='https://wandb.ai/cs22m008/project4/runs/5ffrt9ek' target=\"_blank\">crimson-spaceship-33</a></strong> to <a href='https://wandb.ai/cs22m008/project4' target=\"_blank\">Weights & Biases</a> (<a href='https://wandb.me/run' target=\"_blank\">docs</a>)<br/>"
            ]
          },
          "metadata": {}
        },
        {
          "output_type": "display_data",
          "data": {
            "text/plain": [
              "<IPython.core.display.HTML object>"
            ],
            "text/html": [
              " View project at <a href='https://wandb.ai/cs22m008/project4' target=\"_blank\">https://wandb.ai/cs22m008/project4</a>"
            ]
          },
          "metadata": {}
        },
        {
          "output_type": "display_data",
          "data": {
            "text/plain": [
              "<IPython.core.display.HTML object>"
            ],
            "text/html": [
              " View run at <a href='https://wandb.ai/cs22m008/project4/runs/5ffrt9ek' target=\"_blank\">https://wandb.ai/cs22m008/project4/runs/5ffrt9ek</a>"
            ]
          },
          "metadata": {}
        },
        {
          "output_type": "execute_result",
          "data": {
            "text/html": [
              "<button onClick=\"this.nextSibling.style.display='block';this.style.display='none';\">Display W&B run</button><iframe src='https://wandb.ai/cs22m008/project4/runs/5ffrt9ek?jupyter=true' style='border:none;width:100%;height:420px;display:none;'></iframe>"
            ],
            "text/plain": [
              "<wandb.sdk.wandb_run.Run at 0x7fdd6abc04f0>"
            ]
          },
          "metadata": {},
          "execution_count": 9
        }
      ],
      "source": [
        "wandb.init(project=\"project4\")"
      ]
    },
    {
      "cell_type": "code",
      "execution_count": 10,
      "metadata": {
        "id": "5OJZw8WEkCY5"
      },
      "outputs": [],
      "source": [
        "wandb.log({\"Examples for each class\": Images})\n"
      ]
    },
    {
      "cell_type": "markdown",
      "metadata": {
        "id": "vNp98g3RoGEP"
      },
      "source": [
        "### **Q2**\n",
        "\n",
        "---\n"
      ]
    },
    {
      "cell_type": "markdown",
      "metadata": {
        "id": "lL9_rxyK3bph"
      },
      "source": [
        "## **Data Preprocessing**"
      ]
    },
    {
      "cell_type": "code",
      "execution_count": 11,
      "metadata": {
        "id": "06p8_mPxt0Io"
      },
      "outputs": [],
      "source": [
        "trainX = trainX.reshape(trainX.shape[0], 784)\n",
        "testX = testX.reshape(testX.shape[0], 784)"
      ]
    },
    {
      "cell_type": "code",
      "execution_count": 12,
      "metadata": {
        "id": "xfDdSrxou5zh",
        "colab": {
          "base_uri": "https://localhost:8080/"
        },
        "outputId": "ab851ea7-d241-4a07-829a-9e8700419d21"
      },
      "outputs": [
        {
          "output_type": "stream",
          "name": "stdout",
          "text": [
            "(60000, 784)\n",
            "(10000, 784)\n"
          ]
        }
      ],
      "source": [
        "#feature Scaling\n",
        "trainX=trainX/255.0\n",
        "testX=testX/255.0\n",
        "\n",
        "print(trainX.shape)\n",
        "print(testX.shape)"
      ]
    },
    {
      "cell_type": "code",
      "execution_count": 13,
      "metadata": {
        "id": "kQUZxSkXvs-3"
      },
      "outputs": [],
      "source": [
        "# Split the X_train into a training set and validation set\n",
        "trainX, valX, trainY, valY = train_test_split(trainX, trainY, test_size=0.1, random_state=100)\n"
      ]
    },
    {
      "cell_type": "code",
      "execution_count": 14,
      "metadata": {
        "id": "NHf5k9A1dR8m",
        "colab": {
          "base_uri": "https://localhost:8080/"
        },
        "outputId": "92fe12ca-0dc3-45ad-f3f8-40a949c9f498"
      },
      "outputs": [
        {
          "output_type": "stream",
          "name": "stdout",
          "text": [
            "(54000, 784)\n",
            "(10000, 784)\n",
            "(6000, 784)\n"
          ]
        }
      ],
      "source": [
        "\n",
        "print(trainX.shape)\n",
        "print(testX.shape)\n",
        "print(valX.shape)"
      ]
    },
    {
      "cell_type": "code",
      "execution_count": 15,
      "metadata": {
        "id": "dzN3d-4jdyg8",
        "colab": {
          "base_uri": "https://localhost:8080/"
        },
        "outputId": "9c7094f6-52cc-4299-b89f-6bc2feb32816"
      },
      "outputs": [
        {
          "output_type": "stream",
          "name": "stdout",
          "text": [
            "(54000,)\n",
            "(10000,)\n",
            "(6000,)\n"
          ]
        }
      ],
      "source": [
        "print(trainY.shape)\n",
        "print(testY.shape)\n",
        "print(valY.shape)"
      ]
    },
    {
      "cell_type": "markdown",
      "metadata": {
        "id": "pwGOAFWEljs5"
      },
      "source": [
        "## **Functions**"
      ]
    },
    {
      "cell_type": "code",
      "execution_count": 16,
      "metadata": {
        "id": "srGUnixcawq5"
      },
      "outputs": [],
      "source": [
        "def sigmoid(a):\n",
        "    return 1.0 / (np.exp(-a)+1.0)\n",
        "\n",
        "def softmax(a):\n",
        "    return np.exp(a)/np.sum(np.exp(a),axis=0)\n",
        "\n",
        "def grad_softmax(x):\n",
        "    return softmax(x) * (1-softmax(x))\n",
        "\n",
        "def grad_sigmoid(a):\n",
        "  return sigmoid(a)*(1-sigmoid(a))\n",
        "\n",
        "def relu(x):\n",
        "    return np.maximum(0,x)\n",
        "\n",
        "def grad_relu(x):\n",
        "    return 1*(x>0) \n",
        "\n",
        "def tanh(x):\n",
        "    return np.tanh(x)\n",
        "\n",
        "def grad_tanh(x):\n",
        "    return (1 - (np.tanh(x)**2))\n",
        "\n",
        "def identity(x):\n",
        "  return x\n",
        "\n",
        "def grad_identity(x):\n",
        "  return np.ones(x.shape)"
      ]
    },
    {
      "cell_type": "markdown",
      "metadata": {
        "id": "RSibF6j1kVoi"
      },
      "source": [
        "### **Q3**\n",
        "\n"
      ]
    },
    {
      "cell_type": "code",
      "execution_count": 17,
      "metadata": {
        "id": "EAtL-uWE3u6L",
        "colab": {
          "base_uri": "https://localhost:8080/"
        },
        "outputId": "c377c372-0602-4d94-e762-1ac7f90c3544"
      },
      "outputs": [
        {
          "output_type": "execute_result",
          "data": {
            "text/plain": [
              "54000"
            ]
          },
          "metadata": {},
          "execution_count": 17
        }
      ],
      "source": [
        "numSamples=trainX.shape[0]\n",
        "numSamples"
      ]
    },
    {
      "cell_type": "markdown",
      "metadata": {
        "id": "zhppOE_5_GSK"
      },
      "source": [
        "### **Model**"
      ]
    },
    {
      "cell_type": "code",
      "execution_count": 31,
      "metadata": {
        "id": "rELPAHy-N1A3"
      },
      "outputs": [],
      "source": [
        "class model():\n",
        "  def __init__(self,numLayers,numNeurons,optimizer,activation_funtion,initialization,l2_lambda): \n",
        "    self.numLayers=numLayers #3 hidden layers\n",
        "    self.numHiddenLayers=self.numLayers-1\n",
        "    self.numNeurons=numNeurons\n",
        "    self.numClasses=10\n",
        "    self.grad_w=[]\n",
        "    self.grad_b=[]\n",
        "    self.y_pred=[]\n",
        "    self.u_w=0\n",
        "    self.u_b=0\n",
        "    self.m_w=0\n",
        "    self.m_b=0\n",
        "    self.W_L=[]\n",
        "    self.b_L=[]\n",
        "    self.optimizer=optimizer\n",
        "    if(activation_funtion==\"sigmoid\"):\n",
        "      self.g=sigmoid\n",
        "      self.grad_activation=grad_sigmoid\n",
        "    if(activation_funtion==\"relu\"):\n",
        "      self.g=relu\n",
        "      self.grad_activation=grad_relu\n",
        "    if(activation_funtion==\"tanh\"):\n",
        "      self.g=tanh\n",
        "      self.grad_activation=grad_tanh\n",
        "    self.initialization=initialization\n",
        "    self.l2_lambda=l2_lambda\n",
        "      \n",
        "\n",
        "  def initialize(self):\n",
        "    #Initialising weights and Biases\n",
        "    if self.initialization==\"random_uniform\":\n",
        "      W = []\n",
        "      W.append((np.random.uniform(-1,1,(784,self.numNeurons))))\n",
        "      for i in range (2 , self.numHiddenLayers+1): #Hiddenlayer 1 to last hidden layer (starts from 2 coz first layer is init just above)\n",
        "        W.append((np.random.uniform(-1,1,(self.numNeurons,self.numNeurons))))\n",
        "      W.append((np.random.uniform(-1,1,(self.numNeurons,self.numClasses))))\n",
        "      self.W= np.array(W)\n",
        "\n",
        "    if self.initialization==\"Xavier\":\n",
        "      W = []\n",
        "      W.append((np.random.uniform(-1,1,(784,self.numNeurons)))*np.sqrt(2/(784+self.numNeurons)))\n",
        "      for i in range (2 , self.numHiddenLayers+1): #Hiddenlayer 1 to last hidden layer (starts from 2 coz first layer is init just above)\n",
        "        W.append((np.random.uniform(-1,1,(self.numNeurons,self.numNeurons)))*np.sqrt(2/(self.numNeurons+self.numNeurons)))\n",
        "      W.append((np.random.uniform(-1,1,(self.numNeurons,self.numClasses)))*np.sqrt(2/(self.numNeurons+self.numClasses)))\n",
        "      self.W= np.array(W)\n",
        "\n",
        "    b = []\n",
        "    for i in range (1 , self.numLayers): #Hiddenlayer1 to last hidden layer\n",
        "      b.append(np.zeros((self.numNeurons,1)))\n",
        "    b.append(np.zeros((self.numClasses,1)))\n",
        "    self.b= np.array(b)\n",
        "\n",
        "  def back_propagation(self,Y,batch_size,loss):\n",
        "    grad_a=[None]*(self.numLayers)\n",
        "    grad_b=[None]*(self.numLayers)\n",
        "    grad_h=[None]*(self.numLayers)\n",
        "    grad_w=[None]*(self.numLayers)\n",
        "    oneHot_y=self.compute_oneHot_y(Y)\n",
        "\n",
        "    h=self.activation\n",
        "    a=self.preActivation\n",
        "    W=self.W\n",
        "\n",
        "    if loss==\"crossEntropy\":\n",
        "      grad_a[self.numLayers-1]=self.y_pred-oneHot_y.T #k-dim\n",
        "    elif loss==\"mse\":\n",
        "      grad_a[self.numLayers-1]=(self.y_pred-oneHot_y.T)*grad_softmax(a[self.numLayers-1])\n",
        "\n",
        "   \n",
        "    for k in range (self.numLayers-1,-1,-1): #reverse loop\n",
        "      grad_w[k]=np.matmul(grad_a[k], h[k].T)+self.l2_lambda*W[k].T\n",
        "      grad_b[k]=np.sum(grad_a[k],axis=1,keepdims=True)/batch_size++self.l2_lambda*self.b[k]\n",
        "      grad_h[k]=np.matmul(W[k],grad_a[k])\n",
        "\n",
        "      if(k>0):\n",
        "        grad_a[k-1] =grad_h[k] * self.grad_activation(a[k-1])\n",
        "    self.grad_b,self.grad_w=grad_b,grad_w\n",
        "\n",
        "  def feed_forward(self,X):\n",
        "    a=[None]*(self.numLayers)\n",
        "    h=[None]*(self.numLayers)\n",
        "    k=0\n",
        "    h[0]=X.T\n",
        "    for k in range(0, self.numLayers-1): #for all layers\n",
        "      a_k=self.b[k]+np.matmul(self.W[k].T,h[k]) #0-based Indexing\n",
        "      h_k=self.g(a_k)\n",
        "      a[k]=(a_k)\n",
        "      h[k+1]=(h_k)\n",
        "    a[self.numLayers-1]=self.b[self.numLayers-1]+np.matmul(self.W[self.numLayers-1].T,h[self.numLayers-1])\n",
        "\n",
        "   \n",
        "    output=softmax(a[self.numLayers-1])\n",
        "    \n",
        "\n",
        "    self.activation,self.preActivation=h,a\n",
        "    self.y_pred=output\n",
        "\n",
        "  def train(self,trainX,trainY,valX, valY, batch_size,epochs,beta,beta_1,beta_2,neta,t,loss):\n",
        "    self.initialize()\n",
        "\n",
        "    if self.optimizer=='nesterov':\n",
        "      self.init_nag()\n",
        "    epoch_train_loss=[]\n",
        "    epoch_val_loss=[]\n",
        "\n",
        "    for j in range(0,epochs):\n",
        "      for i in range(0, trainX.shape[0],batch_size):\n",
        "       \n",
        "        if (self.optimizer == 'nesterov'):\n",
        "          W_copy=self.W\n",
        "          b_copy=self.b\n",
        "          self.pre_update_nag(neta)\n",
        "\n",
        "\n",
        "        self.feed_forward(trainX[i:i+batch_size])\n",
        "        self.back_propagation(trainY[i:i+batch_size],batch_size,loss)\n",
        "        Grad_w=np.array(self.grad_w)\n",
        "        for i in range(0,Grad_w.shape[0]):\n",
        "          Grad_w[i]=Grad_w[i].T\n",
        "        Grad_b=np.array(self.grad_b)\n",
        "\n",
        "        if (self.optimizer == 'sgd'):\n",
        "          self.update_sgd(neta,Grad_w,Grad_b)\n",
        "        if (self.optimizer == 'momentum'): \n",
        "          self.update_mom(neta,beta,Grad_w,Grad_b)\n",
        "        if (self.optimizer == 'nesterov'):\n",
        "          self.update_nag(neta,beta,Grad_w,Grad_b,W_copy,b_copy)\n",
        "        if (self.optimizer == 'rmsprop'):\n",
        "          self.update_rmsprop(neta,beta,Grad_w,Grad_b)\n",
        "        if (self.optimizer == 'adam'):\n",
        "          self.update_adam(neta,beta_1,beta_2,Grad_w,Grad_b,t)\n",
        "        if (self.optimizer == 'nadam'):\n",
        "          self.update_nadam(neta,beta_1,beta_2,Grad_w,Grad_b,t)\n",
        "\n",
        "        #self.update_new_optimiser()     The new optimiser algorithm will be called here\n",
        "        t+=1\n",
        "\n",
        "      self.feed_forward(trainX)\n",
        "      train_acc=self.get_accuracy(trainY,self.y_pred.T)*100\n",
        "      print(\"train accuracy: \",train_acc)\n",
        "      wandb.log({\"train_accuracy \": train_acc})\n",
        "\n",
        "      train_loss=self.compute_loss(self.y_pred,self.compute_oneHot_y(trainY),trainX.shape[0],loss)\n",
        "\n",
        "\n",
        "      val_loss, val_accuracy=self.test( valX, valY, beta, neta,loss)\n",
        "\n",
        "\n",
        "\n",
        "      #loss is computed over the entire Xtrain (excluding valX).\n",
        "      wandb.log({\"Training loss \": train_loss} )\n",
        "      print(\"Epoch number: \", j, \"\\tTraining loss:\", train_loss)\n",
        "      epoch_train_loss.append(train_loss)\n",
        "      epoch_val_loss.append(val_loss)\n",
        "\n",
        "\n",
        "      wandb.log({\"epochs \": j})\n",
        "\n",
        "    plt.plot(list(range(len(epoch_train_loss))), epoch_train_loss, 'r', label=\"Training loss\")\n",
        "    plt.plot(list(range(len(epoch_val_loss))), epoch_val_loss, 'b', label=\"val loss\")\n",
        "\n",
        "    plt.title(\"Training Loss and Valdation loss vs Number of Epochs\", size=14)\n",
        "    plt.xlabel(\"Number of epochs\", size=14)\n",
        "    plt.ylabel(\"Loss\", size=14)\n",
        "    plt.grid()\n",
        "    plt.legend()\n",
        "    plt.show()\n",
        "\n",
        "\n",
        "  def test(self,valX,valY,beta,neta,loss):\n",
        "    self.feed_forward(valX)\n",
        "\n",
        "    val_loss=self.compute_loss(self.y_pred,self.compute_oneHot_y(valY),valX.shape[0],loss)\n",
        "\n",
        "    val_accuracy=self.get_accuracy(valY,self.y_pred.T)*100\n",
        "    print(\"val accuracy: \", val_accuracy, \"\\t val loss:\", val_loss)\n",
        "    wandb.log({\"val_accuracy\": val_accuracy, \"val_loss\":val_loss})\n",
        "    return val_loss, val_accuracy\n",
        "\n",
        "\n",
        "  def update_sgd(self,neta,Grad_w,Grad_b):\n",
        "        self.W=self.W-neta*Grad_w\n",
        "        self.b=self.b-neta*Grad_b\n",
        "  \n",
        "  def update_mom(self,neta,beta,Grad_w,Grad_b):\n",
        "        self.u_w=beta*self.u_w+(1-beta)*Grad_w\n",
        "        self.u_b=beta*self.u_b+(1-beta)*Grad_b\n",
        "        self.W=self.W-neta*self.u_w\n",
        "        self.b=self.b-neta*self.u_b\n",
        "  \n",
        "  def update_nag(self,neta,beta,Grad_w,Grad_b,W_copy,b_copy):\n",
        "        self.W=W_copy\n",
        "        self.b=b_copy\n",
        "        self.u_w=beta*self.u_w+(1-beta)*Grad_w\n",
        "        self.u_b=beta*self.u_b+(1-beta)*Grad_b\n",
        "        self.W=self.W-neta*self.u_w\n",
        "        self.b=self.b-neta*self.u_b\n",
        "\n",
        "\n",
        "  def init_nag(self):\n",
        "    W_L = []\n",
        "    W_L.append((np.zeros([784,self.numNeurons])))\n",
        "    for i in range (2 , self.numHiddenLayers+1): #Hiddenlayer 1 to last hidden layer (starts from 2 coz first layer is init just above)\n",
        "      W_L.append((np.zeros([self.numNeurons,self.numNeurons])))\n",
        "    W_L.append((np.zeros([self.numNeurons,self.numClasses])))\n",
        "    W_L= np.array(W_L)\n",
        "\n",
        "    b_L = []\n",
        "    for i in range (1 , self.numLayers): #Hiddenlayer1 to last hidden layer\n",
        "      b_L.append(np.zeros((self.numNeurons,1)))\n",
        "    b_L.append(np.zeros((self.numClasses,1)))\n",
        "    b_L= np.array(b_L)\n",
        "    self.W_L=W_L\n",
        "    self.b_L=b_L\n",
        "\n",
        "  def pre_update_nag(self,neta):\n",
        "    self.W_L=self.W-neta*self.u_w\n",
        "    self.b_L=self.b-neta*self.u_b\n",
        "    self.W=self.W_L\n",
        "    self.b=self.b_L\n",
        "\n",
        "  def update_rmsprop(self,neta,beta,Grad_w,Grad_b):\n",
        "        self.u_w=beta*self.u_w+(1-beta)*Grad_w*Grad_w\n",
        "        self.u_b=beta*self.u_b+(1-beta)*Grad_b*Grad_b\n",
        "        self.W=self.W-(neta/(self.u_w**0.5+10**-8))*Grad_w\n",
        "        self.b=self.b-(neta/(self.u_b**0.5+10**-8))*Grad_b\n",
        "  \n",
        "  def update_adam(self,neta,beta_1,beta_2,Grad_w,Grad_b,t):\n",
        "\n",
        "        self.m_w=beta_1*self.m_w+(1-beta_1)*Grad_w\n",
        "        self.m_b=beta_1*self.m_b+(1-beta_1)*Grad_b\n",
        "\n",
        "        self.u_w=beta_2*self.u_w+(1-beta_2)*Grad_w*Grad_w\n",
        "        self.u_b=beta_2*self.u_b+(1-beta_2)*Grad_b*Grad_b\n",
        "\n",
        "        m_w_hat=self.m_w/(1-beta_1**t)\n",
        "        m_b_hat=self.m_b/(1-beta_1**t)\n",
        "\n",
        "        self.W=self.W-(neta/(self.u_w**0.5+10**-8))*m_w_hat\n",
        "        self.b=self.b-(neta/(self.u_b**0.5+10**-8))*m_b_hat\n",
        "\n",
        "  def update_nadam(self,neta,beta_1,beta_2,Grad_w,Grad_b,t):\n",
        "\n",
        "        self.m_w=beta_1*self.m_w+(1-beta_1)*Grad_w\n",
        "        self.m_b=beta_1*self.m_b+(1-beta_1)*Grad_b\n",
        "\n",
        "        self.u_w=beta_2*self.u_w+(1-beta_2)*Grad_w*Grad_w\n",
        "        self.u_b=beta_2*self.u_b+(1-beta_2)*Grad_b*Grad_b\n",
        "\n",
        "        m_w_hat=self.m_w/(1-beta_1**t)\n",
        "        m_b_hat=self.m_b/(1-beta_1**t)\n",
        "\n",
        "        self.W=self.W-(neta/(self.u_w**0.5+10**-8))*(beta_1*m_w_hat+((1-beta_1)*Grad_w)/(1-beta_1**t))\n",
        "        self.b=self.b-(neta/(self.u_b**0.5+10**-8))*(beta_1*m_b_hat+((1-beta_1)*Grad_b)/(1-beta_1**t))\n",
        "\n",
        "  \"\"\"\"def update_new_optimiser(): \n",
        "        Update function for a new optimisation algorithm to be entered here \"\"\"\n",
        "\n",
        "  def compute_oneHot_y(self,Y):\n",
        "    oneHot_y=[]\n",
        "    for i in range(0,Y.shape[0]):\n",
        "      temp=np.zeros(self.numClasses)\n",
        "      temp[Y[i]]=1\n",
        "      oneHot_y.append(temp)\n",
        "    oneHot_y=np.array(oneHot_y)\n",
        "    return oneHot_y\n",
        "\n",
        "  def compute_loss(self,y_pred,oneHot_y,numImages,loss):\n",
        "\n",
        "    loss_reg=0\n",
        "    for i in range(0, 4):\n",
        "        loss_reg += np.sum(np.square(np.linalg.norm(self.W[i])))\n",
        "        loss_reg += np.sum(np.square(np.linalg.norm(self.b[i])))\n",
        "    if loss == 'crossEntropy':\n",
        "        return (-1.0 * np.sum(np.multiply(oneHot_y.T, np.log(y_pred)))/numImages + (self.l2_lambda*loss_reg/2))\n",
        "\n",
        "    elif loss == 'mse':\n",
        "        return  ((1/2) * np.sum((oneHot_y.T-y_pred)**2)/numImages + (self.l2_lambda*loss_reg/numImages))\n",
        "\n",
        "\n",
        "  def get_accuracy(self,Y_true,Y_pred):\n",
        "    size=Y_true.shape[0]\n",
        "    corrects = 0\n",
        "    s=0\n",
        "    while(s<size):\n",
        "      t=0\n",
        "      maxT = 0\n",
        "      maxS = 0\n",
        "\n",
        "      while (t<10):\n",
        "        if (maxS < Y_pred[s][t]):\n",
        "          maxT = t\n",
        "          maxS = Y_pred[s][t]\n",
        "        t+=1\n",
        "      if (maxT == Y_true[s]):\n",
        "        corrects+=1\n",
        "      accuracy=corrects/size\n",
        "      s+=1\n",
        "    return accuracy\n",
        "\n"
      ]
    },
    {
      "cell_type": "code",
      "execution_count": 26,
      "metadata": {
        "id": "_DIBPdppn7Hn"
      },
      "outputs": [],
      "source": [
        "sweep_config = {\n",
        "  \"name\": \"CS6910 Assignment 1\",\n",
        "  \"metric\": {\n",
        "      \"name\":\"val_accuracy\",\n",
        "      \"goal\": \"maximize\"\n",
        "  },\n",
        "  \"method\": \"bayes\",\n",
        "  \"parameters\": {\n",
        "       \"activation_funtion\": {\n",
        "            \"values\": [\"sigmoid\", \"tanh\", \"relu\"]\n",
        "        },\n",
        "        \"initialization\": {\n",
        "            \"values\": [\"Xavier\", \"random_uniform\"]\n",
        "        },\n",
        "        \"learning_rate\": {\n",
        "            \"values\": [1e-3, 1e-4]\n",
        "        },\n",
        "        \"optimizer\": {\n",
        "            \"values\": [\"sgd\", \"momentum\", \"nesterov\", \"adam\", \"nadam\", \"rmsprop\"]\n",
        "        },\n",
        "        \"batch_size\": {\n",
        "            \"values\": [16, 32, 64]\n",
        "        },\n",
        "        \"epochs\": {\n",
        "            \"values\": [5, 10]\n",
        "        },\n",
        "        \"l2_lambda\": {\n",
        "            \"values\": [0, 0.0005, 0.5]\n",
        "        },\n",
        "         \"numLayers\": {\n",
        "            \"values\": [4, 5, 6] #numHiddenLayers=numLayers-1  Hence, numHiddenLayers: [3, 4, 5]\n",
        "        },\n",
        "\n",
        "        \"numNeurons\": {\n",
        "            \"values\": [32, 64, 128]\n",
        "        }\n",
        "    }\n",
        "}"
      ]
    },
    {
      "cell_type": "code",
      "execution_count": 27,
      "metadata": {
        "id": "3T32Zg0LVu7l"
      },
      "outputs": [],
      "source": [
        "def sweep():\n",
        "  wandb.init()\n",
        "  config = wandb.config\n",
        "  obj = model(config.numLayers,config.numNeurons,config.optimizer,config.activation_funtion,config.initialization,config.l2_lambda)\n",
        "\n",
        "  beta=0.999\n",
        "  beta_1=0.9\n",
        "  beta_2=0.999\n",
        "\n",
        "  t = 1 # initialize timestep for Adam optimizer\n",
        "  loss=\"mse\"\n",
        "  obj.train(trainX,trainY,valX, valY, config.batch_size,config.epochs,beta,beta_1,beta_2,config.learning_rate,t,loss)\n",
        "\n",
        "  #there is no back_prop in test.. so need not actually give beta, beta_1, neta, t etc..!\n",
        "  # obj.test(testX,testY,beta,config.learning_rate)\n",
        "  run_name = \"lr_{}_ac_{}_in_{}_op_{}_bs_{}_L2_{}_ep_{}_nn_{}_nh_{}\".format(config.learning_rate, config.activation_funtion,config.initialization, config.optimizer, config.batch_size, config.l2_lambda, config.epochs, config.numNeurons, config.numLayers-1)\n",
        "  print(run_name)\n",
        "  wandb.run.name = run_name\n",
        "  wandb.run.save()"
      ]
    },
    {
      "cell_type": "code",
      "source": [
        "beta=0.999\n",
        "beta_1=0.9\n",
        "beta_2=0.999\n",
        "obj=model(3+1,128,\"adam\",\"tanh\",\"Xavier\",0)\n",
        "  # def train(trainX,trainY,valX, valY, batch_size,epochs,beta,beta_1,beta_2,neta,t,loss):\n",
        "\n",
        "obj.train(trainX,trainY, valX,valY ,64, 10 ,beta,beta_1,beta_2,0.001,1,\"crossEntropy\")"
      ],
      "metadata": {
        "id": "EIhAAhtO3BdK",
        "colab": {
          "base_uri": "https://localhost:8080/",
          "height": 979
        },
        "outputId": "6fd5a3ff-0c29-4635-de82-e7fea99ed2c7"
      },
      "execution_count": 28,
      "outputs": [
        {
          "output_type": "stream",
          "name": "stderr",
          "text": [
            "<ipython-input-25-fd9094387bf5>:46: VisibleDeprecationWarning: Creating an ndarray from ragged nested sequences (which is a list-or-tuple of lists-or-tuples-or ndarrays with different lengths or shapes) is deprecated. If you meant to do this, you must specify 'dtype=object' when creating the ndarray.\n",
            "  self.W= np.array(W)\n",
            "<ipython-input-25-fd9094387bf5>:52: VisibleDeprecationWarning: Creating an ndarray from ragged nested sequences (which is a list-or-tuple of lists-or-tuples-or ndarrays with different lengths or shapes) is deprecated. If you meant to do this, you must specify 'dtype=object' when creating the ndarray.\n",
            "  self.b= np.array(b)\n",
            "<ipython-input-25-fd9094387bf5>:118: VisibleDeprecationWarning: Creating an ndarray from ragged nested sequences (which is a list-or-tuple of lists-or-tuples-or ndarrays with different lengths or shapes) is deprecated. If you meant to do this, you must specify 'dtype=object' when creating the ndarray.\n",
            "  Grad_w=np.array(self.grad_w)\n",
            "<ipython-input-25-fd9094387bf5>:121: VisibleDeprecationWarning: Creating an ndarray from ragged nested sequences (which is a list-or-tuple of lists-or-tuples-or ndarrays with different lengths or shapes) is deprecated. If you meant to do this, you must specify 'dtype=object' when creating the ndarray.\n",
            "  Grad_b=np.array(self.grad_b)\n"
          ]
        },
        {
          "output_type": "stream",
          "name": "stdout",
          "text": [
            "train accuracy:  84.22777777777777\n",
            "val accuracy:  83.86666666666667 \t val loss: 0.436532249808976\n",
            "Epoch number:  0 \tTraining loss: 0.427764441422567\n",
            "train accuracy:  86.52037037037037\n",
            "val accuracy:  85.7 \t val loss: 0.3845078830133964\n",
            "Epoch number:  1 \tTraining loss: 0.373694010475319\n",
            "train accuracy:  87.53703703703704\n",
            "val accuracy:  86.76666666666667 \t val loss: 0.363978479727612\n",
            "Epoch number:  2 \tTraining loss: 0.3452734408890045\n",
            "train accuracy:  88.2\n",
            "val accuracy:  87.13333333333333 \t val loss: 0.35028846365545163\n",
            "Epoch number:  3 \tTraining loss: 0.3252823448603271\n",
            "train accuracy:  88.75925925925927\n",
            "val accuracy:  87.86666666666667 \t val loss: 0.3419480425121099\n",
            "Epoch number:  4 \tTraining loss: 0.3116829054006308\n",
            "train accuracy:  88.79629629629629\n",
            "val accuracy:  87.76666666666667 \t val loss: 0.34126149592626104\n",
            "Epoch number:  5 \tTraining loss: 0.3082287386533163\n",
            "train accuracy:  89.3462962962963\n",
            "val accuracy:  88.16666666666667 \t val loss: 0.3290578221578266\n",
            "Epoch number:  6 \tTraining loss: 0.2933133020789888\n",
            "train accuracy:  89.3462962962963\n",
            "val accuracy:  88.05 \t val loss: 0.3307541252628856\n",
            "Epoch number:  7 \tTraining loss: 0.29113081905725113\n",
            "train accuracy:  89.77222222222223\n",
            "val accuracy:  88.38333333333334 \t val loss: 0.3269946067684339\n",
            "Epoch number:  8 \tTraining loss: 0.28061948593472597\n",
            "train accuracy:  89.97407407407407\n",
            "val accuracy:  88.51666666666667 \t val loss: 0.32939285956105013\n",
            "Epoch number:  9 \tTraining loss: 0.27457080142111906\n"
          ]
        },
        {
          "output_type": "display_data",
          "data": {
            "text/plain": [
              "<Figure size 432x288 with 1 Axes>"
            ],
            "image/png": "[encoded data removed]"
          },
          "metadata": {
            "needs_background": "light"
          }
        }
      ]
    },
    {
      "cell_type": "code",
      "execution_count": 22,
      "metadata": {
        "id": "TJvkGJdiRlNG"
      },
      "outputs": [],
      "source": [
        "# sweep_id = wandb.sweep(sweep_config,project=\"Project 14 revert mse\")\n",
        "# wandb.agent(sweep_id, sweep, count=10)"
      ]
    },
    {
      "cell_type": "code",
      "source": [
        "\n",
        "\n"
      ],
      "metadata": {
        "colab": {
          "base_uri": "https://localhost:8080/",
          "height": 322
        },
        "id": "AoWWfDoqL0RP",
        "outputId": "822c308b-d1dd-44c7-ae50-54a77604b766"
      },
      "execution_count": 32,
      "outputs": [
        {
          "output_type": "error",
          "ename": "IndexError",
          "evalue": "ignored",
          "traceback": [
            "\u001b[0;31m---------------------------------------------------------------------------\u001b[0m",
            "\u001b[0;31mIndexError\u001b[0m                                Traceback (most recent call last)",
            "\u001b[0;32m<ipython-input-32-961f35ca25f8>\u001b[0m in \u001b[0;36m<module>\u001b[0;34m\u001b[0m\n\u001b[1;32m      3\u001b[0m \u001b[0;31m# calculate the confusion matrix; labels is numpy array of classification labels\u001b[0m\u001b[0;34m\u001b[0m\u001b[0;34m\u001b[0m\u001b[0m\n\u001b[1;32m      4\u001b[0m \u001b[0;34m\u001b[0m\u001b[0m\n\u001b[0;32m----> 5\u001b[0;31m \u001b[0mcnf_m\u001b[0m\u001b[0;34m=\u001b[0m\u001b[0mobj\u001b[0m\u001b[0;34m.\u001b[0m\u001b[0mcnf_m\u001b[0m\u001b[0;34m(\u001b[0m\u001b[0;34m)\u001b[0m\u001b[0;34m\u001b[0m\u001b[0;34m\u001b[0m\u001b[0m\n\u001b[0m\u001b[1;32m      6\u001b[0m \u001b[0;34m\u001b[0m\u001b[0m\n",
            "\u001b[0;32m<ipython-input-25-fd9094387bf5>\u001b[0m in \u001b[0;36mcnf_m\u001b[0;34m(self)\u001b[0m\n\u001b[1;32m    306\u001b[0m     \u001b[0mactual\u001b[0m\u001b[0;34m=\u001b[0m\u001b[0mself\u001b[0m\u001b[0;34m.\u001b[0m\u001b[0mcompute_oneHot_y\u001b[0m\u001b[0;34m(\u001b[0m\u001b[0mvalY\u001b[0m\u001b[0;34m)\u001b[0m\u001b[0;34m\u001b[0m\u001b[0;34m\u001b[0m\u001b[0m\n\u001b[1;32m    307\u001b[0m     \u001b[0;32mfor\u001b[0m \u001b[0ma\u001b[0m\u001b[0;34m,\u001b[0m \u001b[0mp\u001b[0m \u001b[0;32min\u001b[0m \u001b[0mzip\u001b[0m\u001b[0;34m(\u001b[0m\u001b[0mactual\u001b[0m\u001b[0;34m,\u001b[0m \u001b[0mpredicted\u001b[0m\u001b[0;34m)\u001b[0m\u001b[0;34m:\u001b[0m\u001b[0;34m\u001b[0m\u001b[0;34m\u001b[0m\u001b[0m\n\u001b[0;32m--> 308\u001b[0;31m         \u001b[0mcm\u001b[0m\u001b[0;34m[\u001b[0m\u001b[0ma\u001b[0m\u001b[0;34m]\u001b[0m\u001b[0;34m[\u001b[0m\u001b[0mp\u001b[0m\u001b[0;34m]\u001b[0m \u001b[0;34m+=\u001b[0m \u001b[0;36m1\u001b[0m\u001b[0;34m\u001b[0m\u001b[0;34m\u001b[0m\u001b[0m\n\u001b[0m\u001b[1;32m    309\u001b[0m     \u001b[0;32mreturn\u001b[0m \u001b[0mcm\u001b[0m\u001b[0;34m\u001b[0m\u001b[0;34m\u001b[0m\u001b[0m\n",
            "\u001b[0;31mIndexError\u001b[0m: arrays used as indices must be of integer (or boolean) type"
          ]
        }
      ]
    },
    {
      "cell_type": "markdown",
      "metadata": {
        "id": "u85MBMDbBNAk"
      },
      "source": []
    }
  ],
  "metadata": {
    "colab": {
      "collapsed_sections": [
        "vNp98g3RoGEP"
      ],
      "provenance": []
    },
    "kernelspec": {
      "display_name": "Python 3",
      "name": "python3"
    },
    "language_info": {
      "name": "python"
    }
  },
  "nbformat": 4,
  "nbformat_minor": 0
}