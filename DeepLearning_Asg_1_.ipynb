{
  "cells": [
    {
      "cell_type": "markdown",
      "metadata": {
        "id": "IsZ72WHq36Qw"
      },
      "source": [
        "### **Import Libraries**"
      ]
    },
    {
      "cell_type": "code",
      "execution_count": 1,
      "metadata": {
        "id": "5SLrzrQ5m8ej"
      },
      "outputs": [],
      "source": [
        "import matplotlib.pyplot as plt\n",
        "import numpy as np\n",
        "from sklearn.model_selection import train_test_split"
      ]
    },
    {
      "cell_type": "code",
      "execution_count": 2,
      "metadata": {
        "colab": {
          "base_uri": "https://localhost:8080/"
        },
        "id": "Ad6VuSShjzaK",
        "outputId": "6ad83ed0-71f5-4dfc-a118-f9dc9a526aab"
      },
      "outputs": [
        {
          "output_type": "stream",
          "name": "stdout",
          "text": [
            "Looking in indexes: https://pypi.org/simple, https://us-python.pkg.dev/colab-wheels/public/simple/\n",
            "Requirement already satisfied: wandb in /usr/local/lib/python3.9/dist-packages (0.13.11)\n",
            "Requirement already satisfied: setuptools in /usr/local/lib/python3.9/dist-packages (from wandb) (57.4.0)\n",
            "Requirement already satisfied: requests<3,>=2.0.0 in /usr/local/lib/python3.9/dist-packages (from wandb) (2.25.1)\n",
            "Requirement already satisfied: sentry-sdk>=1.0.0 in /usr/local/lib/python3.9/dist-packages (from wandb) (1.16.0)\n",
            "Requirement already satisfied: setproctitle in /usr/local/lib/python3.9/dist-packages (from wandb) (1.3.2)\n",
            "Requirement already satisfied: GitPython!=3.1.29,>=1.0.0 in /usr/local/lib/python3.9/dist-packages (from wandb) (3.1.31)\n",
            "Requirement already satisfied: protobuf!=4.21.0,<5,>=3.15.0 in /usr/local/lib/python3.9/dist-packages (from wandb) (3.19.6)\n",
            "Requirement already satisfied: pathtools in /usr/local/lib/python3.9/dist-packages (from wandb) (0.1.2)\n",
            "Requirement already satisfied: typing-extensions in /usr/local/lib/python3.9/dist-packages (from wandb) (4.5.0)\n",
            "Requirement already satisfied: docker-pycreds>=0.4.0 in /usr/local/lib/python3.9/dist-packages (from wandb) (0.4.0)\n",
            "Requirement already satisfied: Click!=8.0.0,>=7.0 in /usr/local/lib/python3.9/dist-packages (from wandb) (8.1.3)\n",
            "Requirement already satisfied: PyYAML in /usr/local/lib/python3.9/dist-packages (from wandb) (6.0)\n",
            "Requirement already satisfied: appdirs>=1.4.3 in /usr/local/lib/python3.9/dist-packages (from wandb) (1.4.4)\n",
            "Requirement already satisfied: psutil>=5.0.0 in /usr/local/lib/python3.9/dist-packages (from wandb) (5.4.8)\n",
            "Requirement already satisfied: six>=1.4.0 in /usr/local/lib/python3.9/dist-packages (from docker-pycreds>=0.4.0->wandb) (1.15.0)\n",
            "Requirement already satisfied: gitdb<5,>=4.0.1 in /usr/local/lib/python3.9/dist-packages (from GitPython!=3.1.29,>=1.0.0->wandb) (4.0.10)\n",
            "Requirement already satisfied: urllib3<1.27,>=1.21.1 in /usr/local/lib/python3.9/dist-packages (from requests<3,>=2.0.0->wandb) (1.26.14)\n",
            "Requirement already satisfied: idna<3,>=2.5 in /usr/local/lib/python3.9/dist-packages (from requests<3,>=2.0.0->wandb) (2.10)\n",
            "Requirement already satisfied: chardet<5,>=3.0.2 in /usr/local/lib/python3.9/dist-packages (from requests<3,>=2.0.0->wandb) (4.0.0)\n",
            "Requirement already satisfied: certifi>=2017.4.17 in /usr/local/lib/python3.9/dist-packages (from requests<3,>=2.0.0->wandb) (2022.12.7)\n",
            "Requirement already satisfied: smmap<6,>=3.0.1 in /usr/local/lib/python3.9/dist-packages (from gitdb<5,>=4.0.1->GitPython!=3.1.29,>=1.0.0->wandb) (5.0.0)\n"
          ]
        }
      ],
      "source": [
        "!pip install wandb"
      ]
    },
    {
      "cell_type": "code",
      "execution_count": 3,
      "metadata": {
        "id": "uXNuUAuCmI29"
      },
      "outputs": [],
      "source": [
        "import wandb"
      ]
    },
    {
      "cell_type": "markdown",
      "metadata": {
        "id": "lIVXOiXY4KOf"
      },
      "source": [
        "## **Downloading Data**"
      ]
    },
    {
      "cell_type": "code",
      "execution_count": 4,
      "metadata": {
        "id": "xzklUaso4K9-"
      },
      "outputs": [],
      "source": [
        "from keras.datasets import fashion_mnist"
      ]
    },
    {
      "cell_type": "code",
      "execution_count": 5,
      "metadata": {
        "colab": {
          "base_uri": "https://localhost:8080/"
        },
        "id": "iE7O0-uYV77y",
        "outputId": "96b57162-2f9a-40f6-b890-d5ef375bac1f"
      },
      "outputs": [
        {
          "output_type": "execute_result",
          "data": {
            "text/plain": [
              "<module 'keras.datasets.fashion_mnist' from '/usr/local/lib/python3.9/dist-packages/keras/datasets/fashion_mnist.py'>"
            ]
          },
          "metadata": {},
          "execution_count": 5
        }
      ],
      "source": [
        "fashion_mnist"
      ]
    },
    {
      "cell_type": "markdown",
      "metadata": {
        "id": "5h5aD7MC4dX9"
      },
      "source": [
        "## **Data pre-processing**"
      ]
    },
    {
      "cell_type": "code",
      "execution_count": 6,
      "metadata": {
        "colab": {
          "base_uri": "https://localhost:8080/"
        },
        "id": "Vl1WSxUAXe0g",
        "outputId": "66820810-5336-44d7-cd54-37e7a3b5c721"
      },
      "outputs": [
        {
          "output_type": "stream",
          "name": "stdout",
          "text": [
            "Train: X =  (60000, 28, 28)\n",
            "Test: X =  (10000, 28, 28)\n"
          ]
        }
      ],
      "source": [
        "# Split the data into training and testing\n",
        "(trainX, trainY), (testX, testY) = fashion_mnist.load_data()\n",
        "\n",
        "# Print the dimensions of the dataset\n",
        "print('Train: X = ', trainX.shape)\n",
        "print('Test: X = ', testX.shape)\n"
      ]
    },
    {
      "cell_type": "code",
      "execution_count": 7,
      "metadata": {
        "id": "x_mMsZJTm3Ms"
      },
      "outputs": [],
      "source": [
        "class_labels = [\"T-shirt/top\",\"Trouser\",\"Pullover\",\"Dress\",\"Coat\",\"Sandal\",\"Shirt\",\"Sneaker\",\"Bag\",\"Ankle boot\"]"
      ]
    },
    {
      "cell_type": "markdown",
      "metadata": {
        "id": "TTwYJNrQbdfB"
      },
      "source": [
        "### **Q1**\n",
        "\n",
        "---\n",
        "\n"
      ]
    },
    {
      "cell_type": "code",
      "execution_count": 8,
      "metadata": {
        "colab": {
          "base_uri": "https://localhost:8080/",
          "height": 223
        },
        "id": "SnC-fOf0SPWs",
        "outputId": "3befedcd-2a2f-4856-c91e-9f1f7211efde"
      },
      "outputs": [
        {
          "output_type": "display_data",
          "data": {
            "text/plain": [
              "<Figure size 432x288 with 10 Axes>"
            ],
            "image/png": "[encoded data removed]"
          },
          "metadata": {
            "needs_background": "light"
          }
        }
      ],
      "source": [
        "j=0 #j corresponds to the spot index in the subplot \n",
        "classSet=set()\n",
        "Images=[]\n",
        "for i in range(100,150):#i corresponds to the img index \n",
        "  if(j>9):\n",
        "    break\n",
        "  if(trainY[i] not in classSet):\n",
        "    classSet.add(trainY[i])\n",
        "    Images.append(wandb.Image(trainX[i], caption=class_labels[trainY[i]]))\n",
        "    plt.subplot(2,5,j+1);j+=1\n",
        "    plt.imshow(trainX[i], cmap=\"Greys\")\n",
        "    plt.axis('off') # off the axis\n",
        "    plt.title('{}'.format(class_labels[trainY[i]]))"
      ]
    },
    {
      "cell_type": "code",
      "execution_count": 9,
      "metadata": {
        "colab": {
          "base_uri": "https://localhost:8080/",
          "height": 146
        },
        "id": "8Ocs0rHUm6Gg",
        "outputId": "b94bd4b9-3bc7-4db4-9870-51e198c2e997"
      },
      "outputs": [
        {
          "output_type": "stream",
          "name": "stderr",
          "text": [
            "\u001b[34m\u001b[1mwandb\u001b[0m: Currently logged in as: \u001b[33mcs22m008\u001b[0m. Use \u001b[1m`wandb login --relogin`\u001b[0m to force relogin\n"
          ]
        },
        {
          "output_type": "display_data",
          "data": {
            "text/plain": [
              "<IPython.core.display.HTML object>"
            ],
            "text/html": [
              "Tracking run with wandb version 0.13.11"
            ]
          },
          "metadata": {}
        },
        {
          "output_type": "display_data",
          "data": {
            "text/plain": [
              "<IPython.core.display.HTML object>"
            ],
            "text/html": [
              "Run data is saved locally in <code>/content/wandb/run-20230309_074422-jcfoxj96</code>"
            ]
          },
          "metadata": {}
        },
        {
          "output_type": "display_data",
          "data": {
            "text/plain": [
              "<IPython.core.display.HTML object>"
            ],
            "text/html": [
              "Syncing run <strong><a href='https://wandb.ai/cs22m008/project1/runs/jcfoxj96' target=\"_blank\">hearty-smoke-117</a></strong> to <a href='https://wandb.ai/cs22m008/project1' target=\"_blank\">Weights & Biases</a> (<a href='https://wandb.me/run' target=\"_blank\">docs</a>)<br/>"
            ]
          },
          "metadata": {}
        },
        {
          "output_type": "display_data",
          "data": {
            "text/plain": [
              "<IPython.core.display.HTML object>"
            ],
            "text/html": [
              " View project at <a href='https://wandb.ai/cs22m008/project1' target=\"_blank\">https://wandb.ai/cs22m008/project1</a>"
            ]
          },
          "metadata": {}
        },
        {
          "output_type": "display_data",
          "data": {
            "text/plain": [
              "<IPython.core.display.HTML object>"
            ],
            "text/html": [
              " View run at <a href='https://wandb.ai/cs22m008/project1/runs/jcfoxj96' target=\"_blank\">https://wandb.ai/cs22m008/project1/runs/jcfoxj96</a>"
            ]
          },
          "metadata": {}
        },
        {
          "output_type": "execute_result",
          "data": {
            "text/html": [
              "<button onClick=\"this.nextSibling.style.display='block';this.style.display='none';\">Display W&B run</button><iframe src='https://wandb.ai/cs22m008/project1/runs/jcfoxj96?jupyter=true' style='border:none;width:100%;height:420px;display:none;'></iframe>"
            ],
            "text/plain": [
              "<wandb.sdk.wandb_run.Run at 0x7f6c8903d700>"
            ]
          },
          "metadata": {},
          "execution_count": 9
        }
      ],
      "source": [
        "wandb.init(project=\"project1\")"
      ]
    },
    {
      "cell_type": "code",
      "execution_count": 10,
      "metadata": {
        "id": "5OJZw8WEkCY5"
      },
      "outputs": [],
      "source": [
        "wandb.log({\"Examples for each class\": Images})\n"
      ]
    },
    {
      "cell_type": "markdown",
      "metadata": {
        "id": "vNp98g3RoGEP"
      },
      "source": [
        "### **Q2**\n",
        "\n",
        "---\n"
      ]
    },
    {
      "cell_type": "markdown",
      "metadata": {
        "id": "lL9_rxyK3bph"
      },
      "source": [
        "## **Data Preprocessing**"
      ]
    },
    {
      "cell_type": "code",
      "execution_count": 11,
      "metadata": {
        "id": "06p8_mPxt0Io"
      },
      "outputs": [],
      "source": [
        "trainX = trainX.reshape(trainX.shape[0], 784)\n",
        "testX = testX.reshape(testX.shape[0], 784)"
      ]
    },
    {
      "cell_type": "code",
      "execution_count": 12,
      "metadata": {
        "id": "xfDdSrxou5zh",
        "colab": {
          "base_uri": "https://localhost:8080/"
        },
        "outputId": "67fd6079-9682-4c1a-f241-b89c049f4870"
      },
      "outputs": [
        {
          "output_type": "stream",
          "name": "stdout",
          "text": [
            "(60000, 784)\n",
            "(10000, 784)\n"
          ]
        }
      ],
      "source": [
        "#feature Scaling\n",
        "trainX=trainX/255.0\n",
        "testX=testX/255.0\n",
        "\n",
        "print(trainX.shape)\n",
        "print(testX.shape)"
      ]
    },
    {
      "cell_type": "code",
      "execution_count": 13,
      "metadata": {
        "id": "kQUZxSkXvs-3"
      },
      "outputs": [],
      "source": [
        "# Split the X_train into a training set and validation set\n",
        "trainX, valX, trainY, valY = train_test_split(trainX, trainY, test_size=0.1, random_state=100)\n"
      ]
    },
    {
      "cell_type": "code",
      "execution_count": 14,
      "metadata": {
        "id": "NHf5k9A1dR8m",
        "colab": {
          "base_uri": "https://localhost:8080/"
        },
        "outputId": "f8a7164d-e8e3-4a54-b2a8-b08a05be1ed3"
      },
      "outputs": [
        {
          "output_type": "stream",
          "name": "stdout",
          "text": [
            "(54000, 784)\n",
            "(10000, 784)\n",
            "(6000, 784)\n"
          ]
        }
      ],
      "source": [
        "\n",
        "print(trainX.shape)\n",
        "print(testX.shape)\n",
        "print(valX.shape)"
      ]
    },
    {
      "cell_type": "code",
      "execution_count": 15,
      "metadata": {
        "id": "dzN3d-4jdyg8",
        "colab": {
          "base_uri": "https://localhost:8080/"
        },
        "outputId": "51f0a95e-47a5-4f49-c501-9e3e1bb44de8"
      },
      "outputs": [
        {
          "output_type": "stream",
          "name": "stdout",
          "text": [
            "(54000,)\n",
            "(10000,)\n",
            "(6000,)\n"
          ]
        }
      ],
      "source": [
        "print(trainY.shape)\n",
        "print(testY.shape)\n",
        "print(valY.shape)"
      ]
    },
    {
      "cell_type": "markdown",
      "metadata": {
        "id": "pwGOAFWEljs5"
      },
      "source": [
        "## **Functions**"
      ]
    },
    {
      "cell_type": "code",
      "execution_count": 16,
      "metadata": {
        "id": "srGUnixcawq5"
      },
      "outputs": [],
      "source": [
        "def sigmoid(a):\n",
        "    return 1.0 / (np.exp(-a)+1.0)\n",
        "\n",
        "def softmax(a):\n",
        "    return np.exp(a)/np.sum(np.exp(a),axis=0)\n",
        "\n",
        "def grad_sigmoid(a):\n",
        "  return sigmoid(a)*(1-sigmoid(a))\n",
        "\n",
        "def relu(x):\n",
        "    return np.maximum(0,x)\n",
        "\n",
        "def grad_relu(x):\n",
        "    return 1*(x>0) \n",
        "\n",
        "def tanh(x):\n",
        "    return np.tanh(x)\n",
        "\n",
        "\n",
        "\n",
        "def grad_tanh(x):\n",
        "    return (1 - (np.tanh(x)**2))\n"
      ]
    },
    {
      "cell_type": "markdown",
      "metadata": {
        "id": "RSibF6j1kVoi"
      },
      "source": [
        "### **Q3**\n",
        "\n"
      ]
    },
    {
      "cell_type": "code",
      "execution_count": 17,
      "metadata": {
        "id": "EAtL-uWE3u6L",
        "colab": {
          "base_uri": "https://localhost:8080/"
        },
        "outputId": "127c0366-59c1-4ee9-8f1b-a1fcf2f8046d"
      },
      "outputs": [
        {
          "output_type": "execute_result",
          "data": {
            "text/plain": [
              "54000"
            ]
          },
          "metadata": {},
          "execution_count": 17
        }
      ],
      "source": [
        "numSamples=trainX.shape[0]\n",
        "numSamples"
      ]
    },
    {
      "cell_type": "markdown",
      "metadata": {
        "id": "zhppOE_5_GSK"
      },
      "source": [
        "### **Model**"
      ]
    },
    {
      "cell_type": "code",
      "execution_count": 18,
      "metadata": {
        "id": "rELPAHy-N1A3"
      },
      "outputs": [],
      "source": [
        "class model():\n",
        "  def __init__(self,numLayers,numNeurons,optimizer,activation_funtion,initialization,l2_lambda): \n",
        "    self.numLayers=numLayers #3 hidden layers\n",
        "    self.numHiddenLayers=self.numLayers-1\n",
        "    self.numNeurons=numNeurons\n",
        "    self.numClasses=10\n",
        "    self.grad_w=[]\n",
        "    self.grad_b=[]\n",
        "    self.y_pred=[]\n",
        "    self.u_w=0\n",
        "    self.u_b=0\n",
        "    self.m_w=0\n",
        "    self.m_b=0\n",
        "    self.W_L=[]\n",
        "    self.b_L=[]\n",
        "    self.optimizer=optimizer\n",
        "    if(activation_funtion==\"sigmoid\"):\n",
        "      self.g=sigmoid\n",
        "      self.grad_activation=grad_sigmoid\n",
        "    if(activation_funtion==\"relu\"):\n",
        "      self.g=relu\n",
        "      self.grad_activation=grad_relu\n",
        "    if(activation_funtion==\"tanh\"):\n",
        "      self.g=tanh\n",
        "      self.grad_activation=grad_tanh\n",
        "    self.initialization=initialization\n",
        "    self.l2_lambda=l2_lambda\n",
        "      \n",
        "\n",
        "  def initialize(self):\n",
        "    #Initialising weights and Biases\n",
        "    if self.initialization==\"random_uniform\":\n",
        "      W = []\n",
        "      W.append((np.random.uniform(-1,1,(784,self.numNeurons))))\n",
        "      for i in range (2 , self.numHiddenLayers+1): #Hiddenlayer 1 to last hidden layer (starts from 2 coz first layer is init just above)\n",
        "        W.append((np.random.uniform(-1,1,(self.numNeurons,self.numNeurons))))\n",
        "      W.append((np.random.uniform(-1,1,(self.numNeurons,self.numClasses))))\n",
        "      self.W= np.array(W)\n",
        "\n",
        "    if self.initialization==\"xavier\":\n",
        "      W = []\n",
        "      W.append((np.random.uniform(-1,1,(784,self.numNeurons)))*np.sqrt(2/(784+self.numNeurons)))\n",
        "      for i in range (2 , self.numHiddenLayers+1): #Hiddenlayer 1 to last hidden layer (starts from 2 coz first layer is init just above)\n",
        "        W.append((np.random.uniform(-1,1,(self.numNeurons,self.numNeurons)))*np.sqrt(2/(self.numNeurons+self.numNeurons)))\n",
        "      W.append((np.random.uniform(-1,1,(self.numNeurons,self.numClasses)))*np.sqrt(2/(self.numNeurons+self.numClasses)))\n",
        "      self.W= np.array(W)\n",
        "\n",
        "    b = []\n",
        "    for i in range (1 , self.numLayers): #Hiddenlayer1 to last hidden layer\n",
        "      b.append(np.zeros((self.numNeurons,1)))\n",
        "    b.append(np.zeros((self.numClasses,1)))\n",
        "    self.b= np.array(b)\n",
        "\n",
        "  def back_propagation(self,Y,batch_size):\n",
        "    grad_a=[None]*(self.numLayers)\n",
        "    grad_b=[None]*(self.numLayers)\n",
        "    grad_h=[None]*(self.numLayers)\n",
        "    grad_w=[None]*(self.numLayers)\n",
        "    oneHot_y=self.compute_oneHot_y(Y)\n",
        "\n",
        "    grad_a[self.numLayers-1]=self.y_pred-oneHot_y.T #k-dim\n",
        "    h=self.activation\n",
        "    a=self.preActivation\n",
        "    W=self.W\n",
        "    for k in range (self.numLayers-1,-1,-1): #reverse loop\n",
        "\n",
        "      grad_w[k]=np.matmul(grad_a[k], h[k].T)+self.l2_lambda*W[k].T\n",
        "      grad_b[k]=np.sum(grad_a[k],axis=1,keepdims=True)/batch_size\n",
        "      grad_h[k]=np.matmul(W[k],grad_a[k])\n",
        "\n",
        "      if(k>0):\n",
        "        grad_a[k-1] =grad_h[k] * self.grad_activation(a[k-1])\n",
        "    self.grad_b,self.grad_w=grad_b,grad_w\n",
        "\n",
        "  def feed_forward(self,X):\n",
        "    a=[None]*(self.numLayers)\n",
        "    h=[None]*(self.numLayers)\n",
        "    k=0\n",
        "    h[0]=X.T\n",
        "    for k in range(0, self.numLayers-1): #for all layers\n",
        "      a_k=self.b[k]+np.matmul(self.W[k].T,h[k]) #0-based Indexing\n",
        "      h_k=self.g(a_k)\n",
        "      a[k]=(a_k)\n",
        "      h[k+1]=(h_k)\n",
        "    a[self.numLayers-1]=self.b[self.numLayers-1]+np.matmul(self.W[self.numLayers-1].T,h[self.numLayers-1])\n",
        "\n",
        "   \n",
        "    output=softmax(a[self.numLayers-1])\n",
        "    \n",
        "\n",
        "    self.activation,self.preActivation=h,a\n",
        "    self.y_pred=output\n",
        "\n",
        "  def train(self,trainX,trainY,batch_size,epochs,beta,beta_1,beta_2,neta,t):\n",
        "    self.initialize()\n",
        "\n",
        "    if self.optimizer=='nesterov':\n",
        "      self.init_nag()\n",
        "\n",
        "    for j in range(0,epochs):\n",
        "      for i in range(0, trainX.shape[0],batch_size):\n",
        "       \n",
        "        if (self.optimizer == 'nesterov'):\n",
        "          W_copy=self.W\n",
        "          b_copy=self.b\n",
        "          self.pre_update_nag(neta)\n",
        "\n",
        "\n",
        "        self.feed_forward(trainX[i:i+batch_size])\n",
        "        self.back_propagation(trainY[i:i+batch_size],batch_size)\n",
        "        Grad_w=np.array(self.grad_w)\n",
        "        for i in range(0,Grad_w.shape[0]):\n",
        "          Grad_w[i]=Grad_w[i].T\n",
        "        Grad_b=np.array(self.grad_b)\n",
        "\n",
        "        if (self.optimizer == 'sgd'):\n",
        "          self.update_sgd(neta,Grad_w,Grad_b)\n",
        "        if (self.optimizer == 'momentum'): \n",
        "          self.update_mom(neta,beta,Grad_w,Grad_b)\n",
        "        if (self.optimizer == 'nesterov'):\n",
        "          self.update_nag(neta,beta,Grad_w,Grad_b,W_copy,b_copy)\n",
        "        if (self.optimizer == 'rmsProp'):\n",
        "          self.update_rmsProp(neta,beta,Grad_w,Grad_b)\n",
        "        if (self.optimizer == 'adam'):\n",
        "          self.update_adam(neta,beta_1,beta_2,Grad_w,Grad_b,t)\n",
        "        if (self.optimizer == 'nadam'):\n",
        "          self.update_nadam(neta,beta_1,beta_2,Grad_w,Grad_b,t)\n",
        "\n",
        "        #self.update_new_optimiser()     The new optimiser algorithm will be called here\n",
        "        t+=1\n",
        "\n",
        "      self.feed_forward(trainX)\n",
        "      loss=self.compute_loss(self.y_pred,self.compute_oneHot_y(trainY),trainX.shape[0])\n",
        "      print(loss)\n",
        "      #loss is computed over the entire Xtrain (excluding valX).\n",
        "      wandb.log({\"loss \": loss})\n",
        "\n",
        "  def test(self,testX,testY,beta,neta):\n",
        "    self.feed_forward(testX)\n",
        "    print(\"Accuracy: \")\n",
        "    val_acc=self.get_accuracy(testY,self.y_pred.T)*100\n",
        "    print(val_acc)\n",
        "    wandb.log({\"validation_accuracy \": val_acc})\n",
        "\n",
        "\n",
        "  def update_sgd(self,neta,Grad_w,Grad_b):\n",
        "        self.W=self.W-neta*Grad_w\n",
        "        self.b=self.b-neta*Grad_b\n",
        "  \n",
        "  def update_mom(self,neta,beta,Grad_w,Grad_b):\n",
        "        self.u_w=beta*self.u_w+(1-beta)*Grad_w\n",
        "        self.u_b=beta*self.u_b+(1-beta)*Grad_b\n",
        "        self.W=self.W-neta*self.u_w\n",
        "        self.b=self.b-neta*self.u_b\n",
        "  \n",
        "  def update_nag(self,neta,beta,Grad_w,Grad_b,W_copy,b_copy):\n",
        "        self.W=W_copy\n",
        "        self.b=b_copy\n",
        "        self.u_w=beta*self.u_w+(1-beta)*Grad_w\n",
        "        self.u_b=beta*self.u_b+(1-beta)*Grad_b\n",
        "        self.W=self.W-neta*self.u_w\n",
        "        self.b=self.b-neta*self.u_b\n",
        "\n",
        "\n",
        "  def init_nag(self):\n",
        "    W_L = []\n",
        "    W_L.append((np.zeros([784,self.numNeurons])))\n",
        "    for i in range (2 , self.numHiddenLayers+1): #Hiddenlayer 1 to last hidden layer (starts from 2 coz first layer is init just above)\n",
        "      W_L.append((np.zeros([self.numNeurons,self.numNeurons])))\n",
        "    W_L.append((np.zeros([self.numNeurons,self.numClasses])))\n",
        "    W_L= np.array(W_L)\n",
        "\n",
        "    b_L = []\n",
        "    for i in range (1 , self.numLayers): #Hiddenlayer1 to last hidden layer\n",
        "      b_L.append(np.zeros((self.numNeurons,1)))\n",
        "    b_L.append(np.zeros((self.numClasses,1)))\n",
        "    b_L= np.array(b_L)\n",
        "    self.W_L=W_L\n",
        "    self.b_L=b_L\n",
        "\n",
        "  def pre_update_nag(self,neta):\n",
        "    self.W_L=self.W-neta*self.u_w\n",
        "    self.b_L=self.b-neta*self.u_b\n",
        "    self.W=self.W_L\n",
        "    self.b=self.b_L\n",
        "\n",
        "  def update_rmsProp(self,neta,beta,Grad_w,Grad_b):\n",
        "        self.u_w=beta*self.u_w+(1-beta)*Grad_w*Grad_w\n",
        "        self.u_b=beta*self.u_b+(1-beta)*Grad_b*Grad_b\n",
        "        self.W=self.W-(neta/(self.u_w**0.5+10**-8))*Grad_w\n",
        "        self.b=self.b-(neta/(self.u_b**0.5+10**-8))*Grad_b\n",
        "  \n",
        "  def update_adam(self,neta,beta_1,beta_2,Grad_w,Grad_b,t):\n",
        "\n",
        "        self.m_w=beta_1*self.m_w+(1-beta_1)*Grad_w\n",
        "        self.m_b=beta_1*self.m_b+(1-beta_1)*Grad_b\n",
        "\n",
        "        self.u_w=beta_2*self.u_w+(1-beta_2)*Grad_w*Grad_w\n",
        "        self.u_b=beta_2*self.u_b+(1-beta_2)*Grad_b*Grad_b\n",
        "\n",
        "        m_w_hat=self.m_w/(1-beta_1**t)\n",
        "        m_b_hat=self.m_b/(1-beta_1**t)\n",
        "\n",
        "        self.W=self.W-(neta/(self.u_w**0.5+10**-8))*m_w_hat\n",
        "        self.b=self.b-(neta/(self.u_b**0.5+10**-8))*m_b_hat\n",
        "\n",
        "  def update_nadam(self,neta,beta_1,beta_2,Grad_w,Grad_b,t):\n",
        "\n",
        "        self.m_w=beta_1*self.m_w+(1-beta_1)*Grad_w\n",
        "        self.m_b=beta_1*self.m_b+(1-beta_1)*Grad_b\n",
        "\n",
        "        self.u_w=beta_2*self.u_w+(1-beta_2)*Grad_w*Grad_w\n",
        "        self.u_b=beta_2*self.u_b+(1-beta_2)*Grad_b*Grad_b\n",
        "\n",
        "        m_w_hat=self.m_w/(1-beta_1**t)\n",
        "        m_b_hat=self.m_b/(1-beta_1**t)\n",
        "\n",
        "        self.W=self.W-(neta/(self.u_w**0.5+10**-8))*(beta_1*m_w_hat+((1-beta_1)*Grad_w)/(1-beta_1**t))\n",
        "        self.b=self.b-(neta/(self.u_b**0.5+10**-8))*(beta_1*m_b_hat+((1-beta_1)*Grad_b)/(1-beta_1**t))\n",
        "\n",
        "  \"\"\"\"def update_new_optimiser(): \n",
        "        Update function for a new optimisation algorithm to be entered here \"\"\"\n",
        "\n",
        "  def compute_oneHot_y(self,Y):\n",
        "    oneHot_y=[]\n",
        "    for i in range(0,Y.shape[0]):\n",
        "      temp=np.zeros(self.numClasses)\n",
        "      temp[Y[i]]=1\n",
        "      oneHot_y.append(temp)\n",
        "    oneHot_y=np.array(oneHot_y)\n",
        "    return oneHot_y\n",
        "\n",
        "  def compute_loss(self,y_pred,oneHot_y,numImages):\n",
        "    #  return (-1.0 * np.sum(np.multiply(oneHot_y.T, np.log(y_pred)))/numImages)\n",
        "\n",
        "    # if loss == 'crossentropy':\n",
        "    #   return (-1.0 * np.sum(np.multiply(oneHot_y.T, np.log(y_pred)))/numImages)\n",
        "    # elif loss == 'mse':\n",
        "    return  ((1/2) * np.sum((oneHot_y.T-y_pred)**2)/numImages)\n",
        "\n",
        "\n",
        "\n",
        "  def get_accuracy(self,Y_true,Y_pred):\n",
        "    size=Y_true.shape[0]\n",
        "    corrects = 0\n",
        "    s=0\n",
        "    while(s<size):\n",
        "      t=0\n",
        "      maxT = 0\n",
        "      maxS = 0\n",
        "\n",
        "      while (t<10):\n",
        "        if (maxS < Y_pred[s][t]):\n",
        "          maxT = t\n",
        "          maxS = Y_pred[s][t]\n",
        "        t+=1\n",
        "      if (maxT == Y_true[s]):\n",
        "        corrects+=1\n",
        "      accuracy=corrects/size\n",
        "      s+=1\n",
        "    return accuracy\n",
        "\n",
        "  "
      ]
    },
    {
      "cell_type": "code",
      "execution_count": 19,
      "metadata": {
        "id": "_DIBPdppn7Hn"
      },
      "outputs": [],
      "source": [
        "sweep_config = {\n",
        "  \"name\": \"CS6910 Assignment 1\",\n",
        "  \"metric\": {\n",
        "      \"name\":\"accuracy\",\n",
        "      \"goal\": \"maximize\"\n",
        "  },\n",
        "  \"method\": \"random\",\n",
        "  \"parameters\": {\n",
        "       \"activation_funtion\": {\n",
        "            \"values\": [\"sigmoid\", \"tanh\", \"relu\"]\n",
        "        },\n",
        "        \"initialization\": {\n",
        "            \"values\": [\"xavier\", \"random_uniform\"]\n",
        "        },\n",
        "        \"learning_rate\": {\n",
        "            \"values\": [0.01,0.001, 0.0001]\n",
        "        },\n",
        "        \"optimizer\": {\n",
        "            \"values\": [\"sgd\", \"momentum\", \"nesterov\", \"adam\", \"nadam\", \"RMSprop\"]\n",
        "        },\n",
        "        \"batch_size\": {\n",
        "            \"values\": [16,32,64,128,256,512]\n",
        "        },\n",
        "        \"epochs\": {\n",
        "            \"values\": [5, 10] #[5,10,20]\n",
        "        },\n",
        "        \"l2_lambda\": {\n",
        "            \"values\": [0, 0.0005, 0.5]\n",
        "        },\n",
        "         \"numLayers\": {\n",
        "            \"values\": [4, 5, 6]\n",
        "        },\n",
        "\n",
        "        \"numNeurons\": {\n",
        "            \"values\": [32, 64, 128]\n",
        "        }\n",
        "    }\n",
        "}"
      ]
    },
    {
      "cell_type": "code",
      "execution_count": 20,
      "metadata": {
        "id": "3T32Zg0LVu7l"
      },
      "outputs": [],
      "source": [
        "def sweep():\n",
        "  wandb.init()\n",
        "  config = wandb.config\n",
        "  obj = model(config.numLayers,config.numNeurons,config.optimizer,config.activation_funtion,config.initialization,config.l2_lambda)\n",
        "\n",
        "  beta=0.999\n",
        "  beta_1=0.9\n",
        "  beta_2=0.999\n",
        "\n",
        "  t = 1 # initialize timestep for Adam optimizer\n",
        "\n",
        "  obj.train(trainX,trainY,config.batch_size,config.epochs,beta,beta_1,beta_2,config.learning_rate,t)\n",
        "\n",
        "  #there is no back_prop in test.. so need not actually give beta, beta_1, neta, t etc..!\n",
        "  obj.test(testX,testY,beta,config.learning_rate)\n",
        "  wandb.run.name = \"Pre_Final\"\n",
        "  wandb.run.save()"
      ]
    },
    {
      "cell_type": "code",
      "execution_count": 21,
      "metadata": {
        "id": "TJvkGJdiRlNG",
        "colab": {
          "base_uri": "https://localhost:8080/",
          "height": 1000
        },
        "outputId": "0975299f-178e-404c-b970-9132f359140e"
      },
      "outputs": [
        {
          "output_type": "stream",
          "name": "stderr",
          "text": [
            "\u001b[34m\u001b[1mwandb\u001b[0m: \u001b[33mWARNING\u001b[0m Calling wandb.login() after wandb.init() has no effect.\n"
          ]
        },
        {
          "output_type": "stream",
          "name": "stdout",
          "text": [
            "Create sweep with ID: 9eibyvm4\n",
            "Sweep URL: https://wandb.ai/cs22m008/project1/sweeps/9eibyvm4\n"
          ]
        },
        {
          "output_type": "stream",
          "name": "stderr",
          "text": [
            "\u001b[34m\u001b[1mwandb\u001b[0m: Agent Starting Run: e32ary78 with config:\n",
            "\u001b[34m\u001b[1mwandb\u001b[0m: \tactivation_funtion: tanh\n",
            "\u001b[34m\u001b[1mwandb\u001b[0m: \tbatch_size: 32\n",
            "\u001b[34m\u001b[1mwandb\u001b[0m: \tepochs: 5\n",
            "\u001b[34m\u001b[1mwandb\u001b[0m: \tinitialization: xavier\n",
            "\u001b[34m\u001b[1mwandb\u001b[0m: \tl2_lambda: 0\n",
            "\u001b[34m\u001b[1mwandb\u001b[0m: \tlearning_rate: 0.01\n",
            "\u001b[34m\u001b[1mwandb\u001b[0m: \tnumLayers: 4\n",
            "\u001b[34m\u001b[1mwandb\u001b[0m: \tnumNeurons: 32\n",
            "\u001b[34m\u001b[1mwandb\u001b[0m: \toptimizer: momentum\n"
          ]
        },
        {
          "output_type": "display_data",
          "data": {
            "text/plain": [
              "<IPython.core.display.HTML object>"
            ],
            "text/html": [
              "Tracking run with wandb version 0.13.11"
            ]
          },
          "metadata": {}
        },
        {
          "output_type": "display_data",
          "data": {
            "text/plain": [
              "<IPython.core.display.HTML object>"
            ],
            "text/html": [
              "Run data is saved locally in <code>/content/wandb/run-20230309_074437-e32ary78</code>"
            ]
          },
          "metadata": {}
        },
        {
          "output_type": "display_data",
          "data": {
            "text/plain": [
              "<IPython.core.display.HTML object>"
            ],
            "text/html": [
              "Syncing run <strong><a href='https://wandb.ai/cs22m008/project1/runs/e32ary78' target=\"_blank\">elated-sweep-1</a></strong> to <a href='https://wandb.ai/cs22m008/project1' target=\"_blank\">Weights & Biases</a> (<a href='https://wandb.me/run' target=\"_blank\">docs</a>)<br/>Sweep page: <a href='https://wandb.ai/cs22m008/project1/sweeps/9eibyvm4' target=\"_blank\">https://wandb.ai/cs22m008/project1/sweeps/9eibyvm4</a>"
            ]
          },
          "metadata": {}
        },
        {
          "output_type": "display_data",
          "data": {
            "text/plain": [
              "<IPython.core.display.HTML object>"
            ],
            "text/html": [
              " View project at <a href='https://wandb.ai/cs22m008/project1' target=\"_blank\">https://wandb.ai/cs22m008/project1</a>"
            ]
          },
          "metadata": {}
        },
        {
          "output_type": "display_data",
          "data": {
            "text/plain": [
              "<IPython.core.display.HTML object>"
            ],
            "text/html": [
              " View sweep at <a href='https://wandb.ai/cs22m008/project1/sweeps/9eibyvm4' target=\"_blank\">https://wandb.ai/cs22m008/project1/sweeps/9eibyvm4</a>"
            ]
          },
          "metadata": {}
        },
        {
          "output_type": "display_data",
          "data": {
            "text/plain": [
              "<IPython.core.display.HTML object>"
            ],
            "text/html": [
              " View run at <a href='https://wandb.ai/cs22m008/project1/runs/e32ary78' target=\"_blank\">https://wandb.ai/cs22m008/project1/runs/e32ary78</a>"
            ]
          },
          "metadata": {}
        },
        {
          "output_type": "stream",
          "name": "stderr",
          "text": [
            "<ipython-input-18-f8fd68c9b8b1>:46: VisibleDeprecationWarning: Creating an ndarray from ragged nested sequences (which is a list-or-tuple of lists-or-tuples-or ndarrays with different lengths or shapes) is deprecated. If you meant to do this, you must specify 'dtype=object' when creating the ndarray.\n",
            "  self.W= np.array(W)\n",
            "<ipython-input-18-f8fd68c9b8b1>:52: VisibleDeprecationWarning: Creating an ndarray from ragged nested sequences (which is a list-or-tuple of lists-or-tuples-or ndarrays with different lengths or shapes) is deprecated. If you meant to do this, you must specify 'dtype=object' when creating the ndarray.\n",
            "  self.b= np.array(b)\n",
            "<ipython-input-18-f8fd68c9b8b1>:111: VisibleDeprecationWarning: Creating an ndarray from ragged nested sequences (which is a list-or-tuple of lists-or-tuples-or ndarrays with different lengths or shapes) is deprecated. If you meant to do this, you must specify 'dtype=object' when creating the ndarray.\n",
            "  Grad_w=np.array(self.grad_w)\n",
            "<ipython-input-18-f8fd68c9b8b1>:114: VisibleDeprecationWarning: Creating an ndarray from ragged nested sequences (which is a list-or-tuple of lists-or-tuples-or ndarrays with different lengths or shapes) is deprecated. If you meant to do this, you must specify 'dtype=object' when creating the ndarray.\n",
            "  Grad_b=np.array(self.grad_b)\n"
          ]
        },
        {
          "output_type": "stream",
          "name": "stdout",
          "text": [
            "0.14789896324588575\n",
            "0.1296574578001091\n",
            "0.11930250101601728\n",
            "0.12329322088614345\n",
            "0.11505706751051262\n",
            "Accuracy: \n"
          ]
        },
        {
          "output_type": "stream",
          "name": "stderr",
          "text": [
            "\u001b[34m\u001b[1mwandb\u001b[0m: \u001b[33mWARNING\u001b[0m Calling wandb.run.save without any arguments is deprecated.Changes to attributes are automatically persisted.\n"
          ]
        },
        {
          "output_type": "stream",
          "name": "stdout",
          "text": [
            "81.91000000000001\n"
          ]
        },
        {
          "output_type": "display_data",
          "data": {
            "text/plain": [
              "<IPython.core.display.HTML object>"
            ],
            "text/html": [
              "Waiting for W&B process to finish... <strong style=\"color:green\">(success).</strong>"
            ]
          },
          "metadata": {}
        },
        {
          "output_type": "stream",
          "name": "stderr",
          "text": [
            "\u001b[34m\u001b[1mwandb\u001b[0m: Ctrl + C detected. Stopping sweep.\n"
          ]
        },
        {
          "output_type": "stream",
          "name": "stdout",
          "text": [
            "Error in callback <function _WandbInit._pause_backend at 0x7f6c890709d0> (for post_run_cell):\n"
          ]
        },
        {
          "output_type": "error",
          "ename": "BrokenPipeError",
          "evalue": "ignored",
          "traceback": [
            "\u001b[0;31m---------------------------------------------------------------------------\u001b[0m",
            "\u001b[0;31mBrokenPipeError\u001b[0m                           Traceback (most recent call last)",
            "\u001b[0;32m/usr/local/lib/python3.9/dist-packages/backcall/backcall.py\u001b[0m in \u001b[0;36madapted\u001b[0;34m(*args, **kwargs)\u001b[0m\n\u001b[1;32m    102\u001b[0m                 \u001b[0mkwargs\u001b[0m\u001b[0;34m.\u001b[0m\u001b[0mpop\u001b[0m\u001b[0;34m(\u001b[0m\u001b[0mname\u001b[0m\u001b[0;34m)\u001b[0m\u001b[0;34m\u001b[0m\u001b[0;34m\u001b[0m\u001b[0m\n\u001b[1;32m    103\u001b[0m \u001b[0;31m#            print(args, kwargs, unmatched_pos, cut_positional, unmatched_kw)\u001b[0m\u001b[0;34m\u001b[0m\u001b[0;34m\u001b[0m\u001b[0m\n\u001b[0;32m--> 104\u001b[0;31m             \u001b[0;32mreturn\u001b[0m \u001b[0mcallback\u001b[0m\u001b[0;34m(\u001b[0m\u001b[0;34m*\u001b[0m\u001b[0margs\u001b[0m\u001b[0;34m,\u001b[0m \u001b[0;34m**\u001b[0m\u001b[0mkwargs\u001b[0m\u001b[0;34m)\u001b[0m\u001b[0;34m\u001b[0m\u001b[0;34m\u001b[0m\u001b[0m\n\u001b[0m\u001b[1;32m    105\u001b[0m \u001b[0;34m\u001b[0m\u001b[0m\n\u001b[1;32m    106\u001b[0m         \u001b[0;32mreturn\u001b[0m \u001b[0madapted\u001b[0m\u001b[0;34m\u001b[0m\u001b[0;34m\u001b[0m\u001b[0m\n",
            "\u001b[0;32m/usr/local/lib/python3.9/dist-packages/wandb/sdk/wandb_init.py\u001b[0m in \u001b[0;36m_pause_backend\u001b[0;34m(self)\u001b[0m\n\u001b[1;32m    416\u001b[0m         \u001b[0;32mif\u001b[0m \u001b[0mself\u001b[0m\u001b[0;34m.\u001b[0m\u001b[0mbackend\u001b[0m\u001b[0;34m.\u001b[0m\u001b[0minterface\u001b[0m \u001b[0;32mis\u001b[0m \u001b[0;32mnot\u001b[0m \u001b[0;32mNone\u001b[0m\u001b[0;34m:\u001b[0m\u001b[0;34m\u001b[0m\u001b[0;34m\u001b[0m\u001b[0m\n\u001b[1;32m    417\u001b[0m             \u001b[0mlogger\u001b[0m\u001b[0;34m.\u001b[0m\u001b[0minfo\u001b[0m\u001b[0;34m(\u001b[0m\u001b[0;34m\"pausing backend\"\u001b[0m\u001b[0;34m)\u001b[0m  \u001b[0;31m# type: ignore\u001b[0m\u001b[0;34m\u001b[0m\u001b[0;34m\u001b[0m\u001b[0m\n\u001b[0;32m--> 418\u001b[0;31m             \u001b[0mself\u001b[0m\u001b[0;34m.\u001b[0m\u001b[0mbackend\u001b[0m\u001b[0;34m.\u001b[0m\u001b[0minterface\u001b[0m\u001b[0;34m.\u001b[0m\u001b[0mpublish_pause\u001b[0m\u001b[0;34m(\u001b[0m\u001b[0;34m)\u001b[0m\u001b[0;34m\u001b[0m\u001b[0;34m\u001b[0m\u001b[0m\n\u001b[0m\u001b[1;32m    419\u001b[0m \u001b[0;34m\u001b[0m\u001b[0m\n\u001b[1;32m    420\u001b[0m     \u001b[0;32mdef\u001b[0m \u001b[0m_resume_backend\u001b[0m\u001b[0;34m(\u001b[0m\u001b[0mself\u001b[0m\u001b[0;34m)\u001b[0m \u001b[0;34m->\u001b[0m \u001b[0;32mNone\u001b[0m\u001b[0;34m:\u001b[0m\u001b[0;34m\u001b[0m\u001b[0;34m\u001b[0m\u001b[0m\n",
            "\u001b[0;32m/usr/local/lib/python3.9/dist-packages/wandb/sdk/interface/interface.py\u001b[0m in \u001b[0;36mpublish_pause\u001b[0;34m(self)\u001b[0m\n\u001b[1;32m    663\u001b[0m     \u001b[0;32mdef\u001b[0m \u001b[0mpublish_pause\u001b[0m\u001b[0;34m(\u001b[0m\u001b[0mself\u001b[0m\u001b[0;34m)\u001b[0m \u001b[0;34m->\u001b[0m \u001b[0;32mNone\u001b[0m\u001b[0;34m:\u001b[0m\u001b[0;34m\u001b[0m\u001b[0;34m\u001b[0m\u001b[0m\n\u001b[1;32m    664\u001b[0m         \u001b[0mpause\u001b[0m \u001b[0;34m=\u001b[0m \u001b[0mpb\u001b[0m\u001b[0;34m.\u001b[0m\u001b[0mPauseRequest\u001b[0m\u001b[0;34m(\u001b[0m\u001b[0;34m)\u001b[0m\u001b[0;34m\u001b[0m\u001b[0;34m\u001b[0m\u001b[0m\n\u001b[0;32m--> 665\u001b[0;31m         \u001b[0mself\u001b[0m\u001b[0;34m.\u001b[0m\u001b[0m_publish_pause\u001b[0m\u001b[0;34m(\u001b[0m\u001b[0mpause\u001b[0m\u001b[0;34m)\u001b[0m\u001b[0;34m\u001b[0m\u001b[0;34m\u001b[0m\u001b[0m\n\u001b[0m\u001b[1;32m    666\u001b[0m \u001b[0;34m\u001b[0m\u001b[0m\n\u001b[1;32m    667\u001b[0m     \u001b[0;34m@\u001b[0m\u001b[0mabstractmethod\u001b[0m\u001b[0;34m\u001b[0m\u001b[0;34m\u001b[0m\u001b[0m\n",
            "\u001b[0;32m/usr/local/lib/python3.9/dist-packages/wandb/sdk/interface/interface_shared.py\u001b[0m in \u001b[0;36m_publish_pause\u001b[0;34m(self, pause)\u001b[0m\n\u001b[1;32m    338\u001b[0m     \u001b[0;32mdef\u001b[0m \u001b[0m_publish_pause\u001b[0m\u001b[0;34m(\u001b[0m\u001b[0mself\u001b[0m\u001b[0;34m,\u001b[0m \u001b[0mpause\u001b[0m\u001b[0;34m:\u001b[0m \u001b[0mpb\u001b[0m\u001b[0;34m.\u001b[0m\u001b[0mPauseRequest\u001b[0m\u001b[0;34m)\u001b[0m \u001b[0;34m->\u001b[0m \u001b[0;32mNone\u001b[0m\u001b[0;34m:\u001b[0m\u001b[0;34m\u001b[0m\u001b[0;34m\u001b[0m\u001b[0m\n\u001b[1;32m    339\u001b[0m         \u001b[0mrec\u001b[0m \u001b[0;34m=\u001b[0m \u001b[0mself\u001b[0m\u001b[0;34m.\u001b[0m\u001b[0m_make_request\u001b[0m\u001b[0;34m(\u001b[0m\u001b[0mpause\u001b[0m\u001b[0;34m=\u001b[0m\u001b[0mpause\u001b[0m\u001b[0;34m)\u001b[0m\u001b[0;34m\u001b[0m\u001b[0;34m\u001b[0m\u001b[0m\n\u001b[0;32m--> 340\u001b[0;31m         \u001b[0mself\u001b[0m\u001b[0;34m.\u001b[0m\u001b[0m_publish\u001b[0m\u001b[0;34m(\u001b[0m\u001b[0mrec\u001b[0m\u001b[0;34m)\u001b[0m\u001b[0;34m\u001b[0m\u001b[0;34m\u001b[0m\u001b[0m\n\u001b[0m\u001b[1;32m    341\u001b[0m \u001b[0;34m\u001b[0m\u001b[0m\n\u001b[1;32m    342\u001b[0m     \u001b[0;32mdef\u001b[0m \u001b[0m_publish_resume\u001b[0m\u001b[0;34m(\u001b[0m\u001b[0mself\u001b[0m\u001b[0;34m,\u001b[0m \u001b[0mresume\u001b[0m\u001b[0;34m:\u001b[0m \u001b[0mpb\u001b[0m\u001b[0;34m.\u001b[0m\u001b[0mResumeRequest\u001b[0m\u001b[0;34m)\u001b[0m \u001b[0;34m->\u001b[0m \u001b[0;32mNone\u001b[0m\u001b[0;34m:\u001b[0m\u001b[0;34m\u001b[0m\u001b[0;34m\u001b[0m\u001b[0m\n",
            "\u001b[0;32m/usr/local/lib/python3.9/dist-packages/wandb/sdk/interface/interface_sock.py\u001b[0m in \u001b[0;36m_publish\u001b[0;34m(self, record, local)\u001b[0m\n\u001b[1;32m     49\u001b[0m     \u001b[0;32mdef\u001b[0m \u001b[0m_publish\u001b[0m\u001b[0;34m(\u001b[0m\u001b[0mself\u001b[0m\u001b[0;34m,\u001b[0m \u001b[0mrecord\u001b[0m\u001b[0;34m:\u001b[0m \u001b[0;34m\"pb.Record\"\u001b[0m\u001b[0;34m,\u001b[0m \u001b[0mlocal\u001b[0m\u001b[0;34m:\u001b[0m \u001b[0mOptional\u001b[0m\u001b[0;34m[\u001b[0m\u001b[0mbool\u001b[0m\u001b[0;34m]\u001b[0m \u001b[0;34m=\u001b[0m \u001b[0;32mNone\u001b[0m\u001b[0;34m)\u001b[0m \u001b[0;34m->\u001b[0m \u001b[0;32mNone\u001b[0m\u001b[0;34m:\u001b[0m\u001b[0;34m\u001b[0m\u001b[0;34m\u001b[0m\u001b[0m\n\u001b[1;32m     50\u001b[0m         \u001b[0mself\u001b[0m\u001b[0;34m.\u001b[0m\u001b[0m_assign\u001b[0m\u001b[0;34m(\u001b[0m\u001b[0mrecord\u001b[0m\u001b[0;34m)\u001b[0m\u001b[0;34m\u001b[0m\u001b[0;34m\u001b[0m\u001b[0m\n\u001b[0;32m---> 51\u001b[0;31m         \u001b[0mself\u001b[0m\u001b[0;34m.\u001b[0m\u001b[0m_sock_client\u001b[0m\u001b[0;34m.\u001b[0m\u001b[0msend_record_publish\u001b[0m\u001b[0;34m(\u001b[0m\u001b[0mrecord\u001b[0m\u001b[0;34m)\u001b[0m\u001b[0;34m\u001b[0m\u001b[0;34m\u001b[0m\u001b[0m\n\u001b[0m\u001b[1;32m     52\u001b[0m \u001b[0;34m\u001b[0m\u001b[0m\n\u001b[1;32m     53\u001b[0m     def _communicate_async(\n",
            "\u001b[0;32m/usr/local/lib/python3.9/dist-packages/wandb/sdk/lib/sock_client.py\u001b[0m in \u001b[0;36msend_record_publish\u001b[0;34m(self, record)\u001b[0m\n\u001b[1;32m    219\u001b[0m         \u001b[0mserver_req\u001b[0m \u001b[0;34m=\u001b[0m \u001b[0mspb\u001b[0m\u001b[0;34m.\u001b[0m\u001b[0mServerRequest\u001b[0m\u001b[0;34m(\u001b[0m\u001b[0;34m)\u001b[0m\u001b[0;34m\u001b[0m\u001b[0;34m\u001b[0m\u001b[0m\n\u001b[1;32m    220\u001b[0m         \u001b[0mserver_req\u001b[0m\u001b[0;34m.\u001b[0m\u001b[0mrecord_publish\u001b[0m\u001b[0;34m.\u001b[0m\u001b[0mCopyFrom\u001b[0m\u001b[0;34m(\u001b[0m\u001b[0mrecord\u001b[0m\u001b[0;34m)\u001b[0m\u001b[0;34m\u001b[0m\u001b[0;34m\u001b[0m\u001b[0m\n\u001b[0;32m--> 221\u001b[0;31m         \u001b[0mself\u001b[0m\u001b[0;34m.\u001b[0m\u001b[0msend_server_request\u001b[0m\u001b[0;34m(\u001b[0m\u001b[0mserver_req\u001b[0m\u001b[0;34m)\u001b[0m\u001b[0;34m\u001b[0m\u001b[0;34m\u001b[0m\u001b[0m\n\u001b[0m\u001b[1;32m    222\u001b[0m \u001b[0;34m\u001b[0m\u001b[0m\n\u001b[1;32m    223\u001b[0m     \u001b[0;32mdef\u001b[0m \u001b[0m_extract_packet_bytes\u001b[0m\u001b[0;34m(\u001b[0m\u001b[0mself\u001b[0m\u001b[0;34m)\u001b[0m \u001b[0;34m->\u001b[0m \u001b[0mOptional\u001b[0m\u001b[0;34m[\u001b[0m\u001b[0mbytes\u001b[0m\u001b[0;34m]\u001b[0m\u001b[0;34m:\u001b[0m\u001b[0;34m\u001b[0m\u001b[0;34m\u001b[0m\u001b[0m\n",
            "\u001b[0;32m/usr/local/lib/python3.9/dist-packages/wandb/sdk/lib/sock_client.py\u001b[0m in \u001b[0;36msend_server_request\u001b[0;34m(self, msg)\u001b[0m\n\u001b[1;32m    153\u001b[0m \u001b[0;34m\u001b[0m\u001b[0m\n\u001b[1;32m    154\u001b[0m     \u001b[0;32mdef\u001b[0m \u001b[0msend_server_request\u001b[0m\u001b[0;34m(\u001b[0m\u001b[0mself\u001b[0m\u001b[0;34m,\u001b[0m \u001b[0mmsg\u001b[0m\u001b[0;34m:\u001b[0m \u001b[0mAny\u001b[0m\u001b[0;34m)\u001b[0m \u001b[0;34m->\u001b[0m \u001b[0;32mNone\u001b[0m\u001b[0;34m:\u001b[0m\u001b[0;34m\u001b[0m\u001b[0;34m\u001b[0m\u001b[0m\n\u001b[0;32m--> 155\u001b[0;31m         \u001b[0mself\u001b[0m\u001b[0;34m.\u001b[0m\u001b[0m_send_message\u001b[0m\u001b[0;34m(\u001b[0m\u001b[0mmsg\u001b[0m\u001b[0;34m)\u001b[0m\u001b[0;34m\u001b[0m\u001b[0;34m\u001b[0m\u001b[0m\n\u001b[0m\u001b[1;32m    156\u001b[0m \u001b[0;34m\u001b[0m\u001b[0m\n\u001b[1;32m    157\u001b[0m     \u001b[0;32mdef\u001b[0m \u001b[0msend_server_response\u001b[0m\u001b[0;34m(\u001b[0m\u001b[0mself\u001b[0m\u001b[0;34m,\u001b[0m \u001b[0mmsg\u001b[0m\u001b[0;34m:\u001b[0m \u001b[0mAny\u001b[0m\u001b[0;34m)\u001b[0m \u001b[0;34m->\u001b[0m \u001b[0;32mNone\u001b[0m\u001b[0;34m:\u001b[0m\u001b[0;34m\u001b[0m\u001b[0;34m\u001b[0m\u001b[0m\n",
            "\u001b[0;32m/usr/local/lib/python3.9/dist-packages/wandb/sdk/lib/sock_client.py\u001b[0m in \u001b[0;36m_send_message\u001b[0;34m(self, msg)\u001b[0m\n\u001b[1;32m    150\u001b[0m         \u001b[0mheader\u001b[0m \u001b[0;34m=\u001b[0m \u001b[0mstruct\u001b[0m\u001b[0;34m.\u001b[0m\u001b[0mpack\u001b[0m\u001b[0;34m(\u001b[0m\u001b[0;34m\"<BI\"\u001b[0m\u001b[0;34m,\u001b[0m \u001b[0mord\u001b[0m\u001b[0;34m(\u001b[0m\u001b[0;34m\"W\"\u001b[0m\u001b[0;34m)\u001b[0m\u001b[0;34m,\u001b[0m \u001b[0mraw_size\u001b[0m\u001b[0;34m)\u001b[0m\u001b[0;34m\u001b[0m\u001b[0;34m\u001b[0m\u001b[0m\n\u001b[1;32m    151\u001b[0m         \u001b[0;32mwith\u001b[0m \u001b[0mself\u001b[0m\u001b[0;34m.\u001b[0m\u001b[0m_lock\u001b[0m\u001b[0;34m:\u001b[0m\u001b[0;34m\u001b[0m\u001b[0;34m\u001b[0m\u001b[0m\n\u001b[0;32m--> 152\u001b[0;31m             \u001b[0mself\u001b[0m\u001b[0;34m.\u001b[0m\u001b[0m_sendall_with_error_handle\u001b[0m\u001b[0;34m(\u001b[0m\u001b[0mheader\u001b[0m \u001b[0;34m+\u001b[0m \u001b[0mdata\u001b[0m\u001b[0;34m)\u001b[0m\u001b[0;34m\u001b[0m\u001b[0;34m\u001b[0m\u001b[0m\n\u001b[0m\u001b[1;32m    153\u001b[0m \u001b[0;34m\u001b[0m\u001b[0m\n\u001b[1;32m    154\u001b[0m     \u001b[0;32mdef\u001b[0m \u001b[0msend_server_request\u001b[0m\u001b[0;34m(\u001b[0m\u001b[0mself\u001b[0m\u001b[0;34m,\u001b[0m \u001b[0mmsg\u001b[0m\u001b[0;34m:\u001b[0m \u001b[0mAny\u001b[0m\u001b[0;34m)\u001b[0m \u001b[0;34m->\u001b[0m \u001b[0;32mNone\u001b[0m\u001b[0;34m:\u001b[0m\u001b[0;34m\u001b[0m\u001b[0;34m\u001b[0m\u001b[0m\n",
            "\u001b[0;32m/usr/local/lib/python3.9/dist-packages/wandb/sdk/lib/sock_client.py\u001b[0m in \u001b[0;36m_sendall_with_error_handle\u001b[0;34m(self, data)\u001b[0m\n\u001b[1;32m    128\u001b[0m             \u001b[0mstart_time\u001b[0m \u001b[0;34m=\u001b[0m \u001b[0mtime\u001b[0m\u001b[0;34m.\u001b[0m\u001b[0mmonotonic\u001b[0m\u001b[0;34m(\u001b[0m\u001b[0;34m)\u001b[0m\u001b[0;34m\u001b[0m\u001b[0;34m\u001b[0m\u001b[0m\n\u001b[1;32m    129\u001b[0m             \u001b[0;32mtry\u001b[0m\u001b[0;34m:\u001b[0m\u001b[0;34m\u001b[0m\u001b[0;34m\u001b[0m\u001b[0m\n\u001b[0;32m--> 130\u001b[0;31m                 \u001b[0msent\u001b[0m \u001b[0;34m=\u001b[0m \u001b[0mself\u001b[0m\u001b[0;34m.\u001b[0m\u001b[0m_sock\u001b[0m\u001b[0;34m.\u001b[0m\u001b[0msend\u001b[0m\u001b[0;34m(\u001b[0m\u001b[0mdata\u001b[0m\u001b[0;34m)\u001b[0m\u001b[0;34m\u001b[0m\u001b[0;34m\u001b[0m\u001b[0m\n\u001b[0m\u001b[1;32m    131\u001b[0m                 \u001b[0;31m# sent equal to 0 indicates a closed socket\u001b[0m\u001b[0;34m\u001b[0m\u001b[0;34m\u001b[0m\u001b[0m\n\u001b[1;32m    132\u001b[0m                 \u001b[0;32mif\u001b[0m \u001b[0msent\u001b[0m \u001b[0;34m==\u001b[0m \u001b[0;36m0\u001b[0m\u001b[0;34m:\u001b[0m\u001b[0;34m\u001b[0m\u001b[0;34m\u001b[0m\u001b[0m\n",
            "\u001b[0;31mBrokenPipeError\u001b[0m: [Errno 32] Broken pipe"
          ]
        }
      ],
      "source": [
        "sweep_id = wandb.sweep(sweep_config,project=\"project1\")\n",
        "wandb.agent(sweep_id, sweep, count=1)"
      ]
    },
    {
      "cell_type": "markdown",
      "metadata": {
        "id": "u85MBMDbBNAk"
      },
      "source": []
    }
  ],
  "metadata": {
    "colab": {
      "collapsed_sections": [
        "vNp98g3RoGEP"
      ],
      "provenance": []
    },
    "kernelspec": {
      "display_name": "Python 3",
      "name": "python3"
    },
    "language_info": {
      "name": "python"
    }
  },
  "nbformat": 4,
  "nbformat_minor": 0
}